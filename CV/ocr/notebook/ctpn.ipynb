{
 "cells": [
  {
   "cell_type": "markdown",
   "metadata": {},
   "source": [
    "# Build your own model\n",
    "## Pre-Requirements (30 - 40 Minutes)\n",
    "\n",
    "1. Create a cloud 9 instance and extend volume to 50G\n",
    "2. Create a S3 bucket, such as smworkshop-cszhz, \n",
    " then create a subfolder names <b>ctpn</b> under smworkshop-cszhz,\n",
    " then create a subfolder names <b>results</b> under ctpn\n",
    " last upload some test images into <b>ctpn</b> folder\n",
    "3. Download the code from github (http://git.awsrun.com/Damon/gcr_sm_workshop/tree/master/image_video/zz/work) and upload to cloud 9 instance you just created\n",
    "4. Update <b>region, s3, accesskey and secretkey</b> information from file <b>work\\ctpn\\ctpn\\awss3.py </b>\n",
    "4. Download model file from S3 ( https://smworkshop-cszhz.s3.amazonaws.com/ctpn/checkpoints.zip ) and upload to cloud 9, then extract it into work folder\n",
    "5. Enter work folder, and run\n",
    "  ./build.sh ctpn\n",
    "6. When you complete above process, then continue "
   ]
  },
  {
   "cell_type": "markdown",
   "metadata": {},
   "source": [
    "## Deploy your model (10 - 20 Minutes)"
   ]
  },
  {
   "cell_type": "code",
   "execution_count": 1,
   "metadata": {},
   "outputs": [
    {
     "name": "stdout",
     "output_type": "stream",
     "text": [
      "arn:aws:iam::549828897912:role/service-role/AmazonSageMaker-ExecutionRole-20190814T164000\n"
     ]
    }
   ],
   "source": [
    "# S3 prefix\n",
    "prefix = 'smworkshop-cszhz'\n",
    "\n",
    "# Define IAM role\n",
    "import boto3\n",
    "import re\n",
    "\n",
    "import os\n",
    "import numpy as np\n",
    "import pandas as pd\n",
    "from sagemaker import get_execution_role\n",
    "\n",
    "role = get_execution_role()\n",
    "print(role)"
   ]
  },
  {
   "cell_type": "markdown",
   "metadata": {},
   "source": [
    "Create SageMaker session."
   ]
  },
  {
   "cell_type": "code",
   "execution_count": 2,
   "metadata": {},
   "outputs": [],
   "source": [
    "import sagemaker as sage\n",
    "from time import gmtime, strftime\n",
    "\n",
    "sess = sage.Session()"
   ]
  },
  {
   "cell_type": "markdown",
   "metadata": {},
   "source": [
    "Get image url from ecr. \n",
    "In this excercise, the image name is ctpn"
   ]
  },
  {
   "cell_type": "code",
   "execution_count": 3,
   "metadata": {},
   "outputs": [
    {
     "name": "stdout",
     "output_type": "stream",
     "text": [
      "549828897912.dkr.ecr.us-east-1.amazonaws.com/ctpn:latest\n"
     ]
    }
   ],
   "source": [
    "account = sess.boto_session.client('sts').get_caller_identity()['Account']\n",
    "region = sess.boto_session.region_name\n",
    "image = '{}.dkr.ecr.{}.amazonaws.com/ctpn:latest'.format(account, region)\n",
    "print(image)"
   ]
  },
  {
   "cell_type": "markdown",
   "metadata": {},
   "source": [
    "Call SageMaker API to create model, you also is able to create it from aws console"
   ]
  },
  {
   "cell_type": "code",
   "execution_count": null,
   "metadata": {},
   "outputs": [],
   "source": [
    "model = sess.create_model(\n",
    "        name=\"CTPN\", role=role, container_defs=image)\n",
    "print(model)\n"
   ]
  },
  {
   "cell_type": "markdown",
   "metadata": {},
   "source": [
    "Call SageMaker API to create endpoint configuration, you also is able to create it from aws console"
   ]
  },
  {
   "cell_type": "code",
   "execution_count": null,
   "metadata": {},
   "outputs": [],
   "source": [
    "endpoint_cfg=sess.create_endpoint_config(\n",
    "        name=\"CTPNCFG\",\n",
    "        model_name=\"CTPN\",\n",
    "        initial_instance_count=1,\n",
    "        instance_type=\"ml.c4.xlarge\"\n",
    "    )\n",
    "print(endpoint_cfg)"
   ]
  },
  {
   "cell_type": "markdown",
   "metadata": {},
   "source": [
    "Call SageMaker API to create endpoint, you also is able to create it from aws console.\n",
    "This step is an asynchronous call and always take ten minutes, before next step you may want to drink a cup of coffee."
   ]
  },
  {
   "cell_type": "code",
   "execution_count": null,
   "metadata": {},
   "outputs": [],
   "source": [
    "endpoint=sess.create_endpoint(\n",
    "        endpoint_name=\"CTPNEndpoint\", config_name=\"CTPNCFG\")\n",
    "print(endpoint)"
   ]
  },
  {
   "cell_type": "markdown",
   "metadata": {},
   "source": [
    "## Test your model (3 Minutes)\n",
    "\n",
    "Below code will test the deployed ctpn model."
   ]
  },
  {
   "cell_type": "code",
   "execution_count": 8,
   "metadata": {},
   "outputs": [],
   "source": [
    "#imgName=\"1.png\"\n",
    "imgName=\"3.jpg\""
   ]
  },
  {
   "cell_type": "code",
   "execution_count": 9,
   "metadata": {},
   "outputs": [
    {
     "data": {
      "text/html": [
       "<img src=\"https://smworkshop-cszhz.s3.amazonaws.com/ctpn/3.jpg\"/>"
      ],
      "text/plain": [
       "<IPython.core.display.Image object>"
      ]
     },
     "execution_count": 9,
     "metadata": {},
     "output_type": "execute_result"
    }
   ],
   "source": [
    "#display original image\n",
    "from IPython.display import Image\n",
    "Image(url= \"https://\"+prefix+\".s3.amazonaws.com/ctpn/\"+imgName)"
   ]
  },
  {
   "cell_type": "code",
   "execution_count": 10,
   "metadata": {},
   "outputs": [
    {
     "name": "stdout",
     "output_type": "stream",
     "text": [
      "Detection took 7.162s for 17 object proposals\n"
     ]
    }
   ],
   "source": [
    "runtime = boto3.Session().client('runtime.sagemaker')\n",
    "payload=\"fn=\"+imgName\n",
    "endpoint=\"CTPNEndpoint\"\n",
    "response = runtime.invoke_endpoint(EndpointName=endpoint,ContentType=\"application/x-www-form-urlencoded\",Body=payload)\n",
    "result=response['Body'].read()\n",
    "print(result)"
   ]
  },
  {
   "cell_type": "code",
   "execution_count": 11,
   "metadata": {},
   "outputs": [
    {
     "data": {
      "text/html": [
       "<img src=\"https://smworkshop-cszhz.s3.amazonaws.com/ctpn/results/3.jpg\"/>"
      ],
      "text/plain": [
       "<IPython.core.display.Image object>"
      ]
     },
     "execution_count": 11,
     "metadata": {},
     "output_type": "execute_result"
    }
   ],
   "source": [
    "from IPython.display import Image\n",
    "Image(url= \"https://\"+prefix+\".s3.amazonaws.com/ctpn/results/\"+imgName)"
   ]
  },
  {
   "cell_type": "code",
   "execution_count": null,
   "metadata": {},
   "outputs": [],
   "source": []
  }
 ],
 "metadata": {
  "kernelspec": {
   "display_name": "conda_amazonei_tensorflow_p27",
   "language": "python",
   "name": "conda_amazonei_tensorflow_p27"
  },
  "language_info": {
   "codemirror_mode": {
    "name": "ipython",
    "version": 2
   },
   "file_extension": ".py",
   "mimetype": "text/x-python",
   "name": "python",
   "nbconvert_exporter": "python",
   "pygments_lexer": "ipython2",
   "version": "2.7.15"
  }
 },
 "nbformat": 4,
 "nbformat_minor": 4
}
