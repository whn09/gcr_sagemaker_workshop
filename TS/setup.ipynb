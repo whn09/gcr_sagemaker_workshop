{
 "cells": [
  {
   "cell_type": "markdown",
   "metadata": {},
   "source": [
    "## Download Data"
   ]
  },
  {
   "cell_type": "code",
   "execution_count": 3,
   "metadata": {
    "scrolled": true
   },
   "outputs": [
    {
     "name": "stdout",
     "output_type": "stream",
     "text": [
      "--2020-01-03 10:31:55--  https://tko-2020-ts-workshop.s3-us-west-2.amazonaws.com/data/timeseries_raw.csv\n",
      "Resolving tko-2020-ts-workshop.s3-us-west-2.amazonaws.com (tko-2020-ts-workshop.s3-us-west-2.amazonaws.com)... 52.218.218.65\n",
      "Connecting to tko-2020-ts-workshop.s3-us-west-2.amazonaws.com (tko-2020-ts-workshop.s3-us-west-2.amazonaws.com)|52.218.218.65|:443... connected.\n",
      "HTTP request sent, awaiting response... 200 OK\n",
      "Length: 1060959 (1.0M) [text/csv]\n",
      "Saving to: ‘data/timeseries_raw.csv’\n",
      "\n",
      "data/timeseries_raw 100%[===================>]   1.01M  2.54MB/s    in 0.4s    \n",
      "\n",
      "2020-01-03 10:31:55 (2.54 MB/s) - ‘data/timeseries_raw.csv’ saved [1060959/1060959]\n",
      "\n",
      "--2020-01-03 10:31:55--  https://tko-2020-ts-workshop.s3-us-west-2.amazonaws.com/data/shenzhen_weather.csv\n",
      "Resolving tko-2020-ts-workshop.s3-us-west-2.amazonaws.com (tko-2020-ts-workshop.s3-us-west-2.amazonaws.com)... 52.218.218.65\n",
      "Connecting to tko-2020-ts-workshop.s3-us-west-2.amazonaws.com (tko-2020-ts-workshop.s3-us-west-2.amazonaws.com)|52.218.218.65|:443... connected.\n",
      "HTTP request sent, awaiting response... 200 OK\n",
      "Length: 2461 (2.4K) [text/csv]\n",
      "Saving to: ‘data/shenzhen_weather.csv’\n",
      "\n",
      "data/shenzhen_weath 100%[===================>]   2.40K  --.-KB/s    in 0s      \n",
      "\n",
      "2020-01-03 10:31:56 (140 MB/s) - ‘data/shenzhen_weather.csv’ saved [2461/2461]\n",
      "\n",
      "--2020-01-03 10:31:56--  https://tko-2020-ts-workshop.s3-us-west-2.amazonaws.com/data/is_weekend.csv\n",
      "Resolving tko-2020-ts-workshop.s3-us-west-2.amazonaws.com (tko-2020-ts-workshop.s3-us-west-2.amazonaws.com)... 52.218.192.113\n",
      "Connecting to tko-2020-ts-workshop.s3-us-west-2.amazonaws.com (tko-2020-ts-workshop.s3-us-west-2.amazonaws.com)|52.218.192.113|:443... connected.\n",
      "HTTP request sent, awaiting response... 200 OK\n",
      "Length: 1076 (1.1K) [text/csv]\n",
      "Saving to: ‘data/is_weekend.csv’\n",
      "\n",
      "data/is_weekend.csv 100%[===================>]   1.05K  --.-KB/s    in 0s      \n",
      "\n",
      "2020-01-03 10:31:56 (75.0 MB/s) - ‘data/is_weekend.csv’ saved [1076/1076]\n",
      "\n",
      "--2020-01-03 10:31:56--  https://tko-2020-ts-workshop.s3-us-west-2.amazonaws.com/data/cat.csv\n",
      "Resolving tko-2020-ts-workshop.s3-us-west-2.amazonaws.com (tko-2020-ts-workshop.s3-us-west-2.amazonaws.com)... 52.218.192.113\n",
      "Connecting to tko-2020-ts-workshop.s3-us-west-2.amazonaws.com (tko-2020-ts-workshop.s3-us-west-2.amazonaws.com)|52.218.192.113|:443... connected.\n",
      "HTTP request sent, awaiting response... 200 OK\n",
      "Length: 106442 (104K) [text/csv]\n",
      "Saving to: ‘data/cat.csv’\n",
      "\n",
      "data/cat.csv        100%[===================>] 103.95K   687KB/s    in 0.2s    \n",
      "\n",
      "2020-01-03 10:31:57 (687 KB/s) - ‘data/cat.csv’ saved [106442/106442]\n",
      "\n"
     ]
    }
   ],
   "source": [
    "!mkdir -p data\n",
    "!wget -O data/timeseries_raw.csv https://tko-2020-ts-workshop.s3-us-west-2.amazonaws.com/data/timeseries_raw.csv\n",
    "!wget -O data/shenzhen_weather.csv https://tko-2020-ts-workshop.s3-us-west-2.amazonaws.com/data/shenzhen_weather.csv\n",
    "!wget -O data/is_weekend.csv https://tko-2020-ts-workshop.s3-us-west-2.amazonaws.com/data/is_weekend.csv\n",
    "!wget -O data/cat.csv https://tko-2020-ts-workshop.s3-us-west-2.amazonaws.com/data/cat.csv"
   ]
  },
  {
   "cell_type": "markdown",
   "metadata": {},
   "source": [
    "## Install packages"
   ]
  },
  {
   "cell_type": "code",
   "execution_count": 4,
   "metadata": {},
   "outputs": [
    {
     "name": "stdout",
     "output_type": "stream",
     "text": [
      "Requirement already up-to-date: pip in /home/ec2-user/.local/lib/python3.6/site-packages (19.3.1)\n",
      "Requirement already up-to-date: lightgbm in /home/ec2-user/.local/lib/python3.6/site-packages (2.3.1)\n",
      "Requirement already up-to-date: python-decouple in /home/ec2-user/.local/lib/python3.6/site-packages (3.3)\n",
      "Requirement already up-to-date: statsmodels in /home/ec2-user/.local/lib/python3.6/site-packages (0.10.2)\n",
      "Requirement already satisfied, skipping upgrade: scipy in /usr/lib64/python3.6/dist-packages (from lightgbm) (1.3.1)\n",
      "Requirement already satisfied, skipping upgrade: numpy in /home/ec2-user/.local/lib/python3.6/site-packages (from lightgbm) (1.18.0)\n",
      "Requirement already satisfied, skipping upgrade: scikit-learn in /usr/lib64/python3.6/dist-packages (from lightgbm) (0.20.2)\n",
      "Requirement already satisfied, skipping upgrade: pandas>=0.19 in /home/ec2-user/.local/lib/python3.6/site-packages (from statsmodels) (0.25.3)\n",
      "Requirement already satisfied, skipping upgrade: patsy>=0.4.0 in /home/ec2-user/.local/lib/python3.6/site-packages (from statsmodels) (0.5.1)\n",
      "Requirement already satisfied, skipping upgrade: python-dateutil>=2.6.1 in /usr/lib/python3.6/dist-packages (from pandas>=0.19->statsmodels) (2.8.0)\n",
      "Requirement already satisfied, skipping upgrade: pytz>=2017.2 in /usr/lib/python3.6/dist-packages (from pandas>=0.19->statsmodels) (2019.3)\n",
      "Requirement already satisfied, skipping upgrade: six in /usr/lib/python3.6/dist-packages (from patsy>=0.4.0->statsmodels) (1.12.0)\n"
     ]
    }
   ],
   "source": [
    "!pip3 install --upgrade --user pip lightgbm python-decouple statsmodels"
   ]
  },
  {
   "cell_type": "code",
   "execution_count": null,
   "metadata": {},
   "outputs": [],
   "source": []
  }
 ],
 "metadata": {
  "kernelspec": {
   "display_name": "conda_python3",
   "language": "python",
   "name": "conda_python3"
  },
  "language_info": {
   "codemirror_mode": {
    "name": "ipython",
    "version": 3
   },
   "file_extension": ".py",
   "mimetype": "text/x-python",
   "name": "python",
   "nbconvert_exporter": "python",
   "pygments_lexer": "ipython3",
   "version": "3.6.5"
  }
 },
 "nbformat": 4,
 "nbformat_minor": 4
}
