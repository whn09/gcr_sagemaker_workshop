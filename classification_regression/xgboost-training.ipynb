{
 "cells": [
  {
   "cell_type": "code",
   "execution_count": null,
   "metadata": {},
   "outputs": [],
   "source": [
    "!pip install xgboost --user"
   ]
  },
  {
   "cell_type": "code",
   "execution_count": null,
   "metadata": {},
   "outputs": [],
   "source": [
    "import boto3\n",
    "import sagemaker\n",
    "from sagemaker import get_execution_role\n",
    "\n",
    "sess = sagemaker.Session()\n",
    "role = get_execution_role()\n",
    "bucket = sess.default_bucket()\n",
    "region_name = boto3.Session().region_name\n",
    "prefix = 'gcr_sagemaker_workshop/classification_regression/xgboost'"
   ]
  },
  {
   "cell_type": "code",
   "execution_count": null,
   "metadata": {},
   "outputs": [],
   "source": [
    "%matplotlib inline\n",
    "\n",
    "import numpy as np\n",
    "from sklearn.model_selection import train_test_split\n",
    "from sklearn import preprocessing \n",
    "from sklearn.model_selection import GridSearchCV\n",
    "from sklearn.linear_model import LogisticRegression\n",
    "from sklearn.ensemble import RandomForestClassifier\n",
    "from sklearn.ensemble import GradientBoostingClassifier\n",
    "from sklearn.preprocessing import LabelEncoder\n",
    "from sklearn.naive_bayes import GaussianNB\n",
    "from sklearn import datasets\n",
    "import xgboost as xgb\n",
    "from xgboost import plot_importance\n",
    "import pandas as pd\n",
    "import seaborn as sns\n",
    "import matplotlib.pyplot as plt\n",
    "import math\n",
    "from io import StringIO\n",
    "from sagemaker.predictor import csv_serializer\n",
    "from sklearn.metrics import mean_squared_error\n",
    "\n",
    "import warnings\n",
    "warnings.filterwarnings('ignore')"
   ]
  },
  {
   "cell_type": "code",
   "execution_count": null,
   "metadata": {},
   "outputs": [],
   "source": [
    "df_features = pd.read_csv('features.csv',index_col='index')\n",
    "df_labels = pd.read_csv('labels.csv',index_col='index')"
   ]
  },
  {
   "cell_type": "code",
   "execution_count": null,
   "metadata": {},
   "outputs": [],
   "source": [
    "# prepare datasets\n",
    "X_train,X_test,y_train,y_test = train_test_split(df_features,df_labels,test_size = 0.3,random_state = 1)"
   ]
  },
  {
   "cell_type": "markdown",
   "metadata": {},
   "source": [
    "# model1: xgboost"
   ]
  },
  {
   "cell_type": "markdown",
   "metadata": {},
   "source": [
    "## use native xgboost"
   ]
  },
  {
   "cell_type": "code",
   "execution_count": null,
   "metadata": {},
   "outputs": [],
   "source": [
    "data_train = xgb.DMatrix(X_train, y_train)\n",
    "data_test = xgb.DMatrix(X_test, y_test)\n",
    "\n",
    "param = {'max_depth': 6, 'eta': 0.3, 'objective': 'reg:squarederror'}\n",
    "watchlist = [(data_test, 'test'), (data_train, 'train')]\n",
    "\n",
    "n_round = 300\n",
    "\n",
    "booster = xgb.train(param, data_train, num_boost_round=n_round, evals=watchlist)"
   ]
  },
  {
   "cell_type": "code",
   "execution_count": null,
   "metadata": {},
   "outputs": [],
   "source": [
    "# envaluation\n",
    "y_predicted = booster.predict(data_test)\n",
    "y = data_test.get_label()\n",
    "mean_squared_error(y, y_predicted)"
   ]
  },
  {
   "cell_type": "code",
   "execution_count": null,
   "metadata": {},
   "outputs": [],
   "source": [
    "# feature importance\n",
    "feature_importances_dict = booster.get_score(importance_type='weight')\n",
    "fig, ax = plt.subplots(figsize=(30, 30))\n",
    "plot_importance(booster, ax=ax)"
   ]
  },
  {
   "cell_type": "markdown",
   "metadata": {},
   "source": [
    "## use sagemaker built-in xgboost"
   ]
  },
  {
   "cell_type": "code",
   "execution_count": null,
   "metadata": {},
   "outputs": [],
   "source": [
    "# data preparation\n",
    "df_combined = df_labels.join(df_features)\n",
    "# train\n",
    "df_train = df_combined.sample(int(0.7*len(df_combined)))\n",
    "# validation\n",
    "df_validation_test = df_combined[~df_combined.index.isin(df_train.index)]\n",
    "df_validation = df_validation_test.sample(int(len(df_validation_test)/2))\n",
    "# test\n",
    "df_test = df_validation_test[~df_validation_test.index.isin(df_validation.index)]\n",
    "df_test_label = df_test.iloc[:,0]\n",
    "df_test.drop(columns=['label'],inplace=True)"
   ]
  },
  {
   "cell_type": "code",
   "execution_count": null,
   "metadata": {},
   "outputs": [],
   "source": [
    "# upload to s3\n",
    "df_train.to_csv('df_train.csv',header=False,index=None)\n",
    "df_validation.to_csv('df_validation.csv',header=False,index=None)\n",
    "df_test.to_csv('df_test.csv',header=False,index=None)\n",
    "print('train set length is {}'.format(len(df_train)))\n",
    "print('validation set length is {}'.format(len(df_validation)))\n",
    "print('test set length is {}'.format(len(df_test)))"
   ]
  },
  {
   "cell_type": "code",
   "execution_count": null,
   "metadata": {},
   "outputs": [],
   "source": [
    "# first prepare data to s3 bucket\n",
    "csv_buffer = StringIO()\n",
    "s3_client = boto3.client('s3')\n",
    "s3_client.upload_file('./df_train.csv', bucket, '{}/train/xgboost_train.csv'.format(prefix))\n",
    "s3_client.upload_file('./df_validation.csv', bucket, '{}/validation/xgboost_validation.csv'.format(prefix))\n",
    "s3_client.upload_file('./df_test.csv', bucket, '{}/test/xgboost_test.csv'.format(prefix))"
   ]
  },
  {
   "cell_type": "code",
   "execution_count": null,
   "metadata": {},
   "outputs": [],
   "source": [
    "from sagemaker.amazon.amazon_estimator import get_image_uri\n",
    "container = get_image_uri(region_name, 'xgboost')\n",
    "print(container)"
   ]
  },
  {
   "cell_type": "code",
   "execution_count": null,
   "metadata": {},
   "outputs": [],
   "source": [
    "# training\n",
    "sagemaker_xgb = sagemaker.estimator.Estimator(container,\n",
    "                                    role, \n",
    "                                    train_instance_count=1, \n",
    "                                    train_instance_type='ml.c5.xlarge',\n",
    "                                    output_path='s3://{}/{}/xgboost-output'.format(bucket, prefix),\n",
    "                                    sagemaker_session=sess)\n",
    "\n",
    "sagemaker_xgb.set_hyperparameters(eta=0.15,\n",
    "                        max_depth = 5,\n",
    "#                         subsample = 0.9,\n",
    "                        eval_metric = 'rmse',\n",
    "                        objective='reg:linear',\n",
    "                        num_round=300)\n",
    "\n",
    "now_time = \"2019-09-03\"\n",
    "\n",
    "s3_input_train = sagemaker.s3_input(s3_data='s3://{}/{}/{}'.format(bucket, prefix, 'train/xgboost_train.csv'), content_type='text/csv')\n",
    "s3_input_validation = sagemaker.s3_input(s3_data='s3://{}/{}/{}'.format(bucket, prefix, 'validation/xgboost_validation.csv'), content_type='text/csv')\n",
    "                         \n",
    "sagemaker_xgb.fit({'train': s3_input_train, 'validation': s3_input_validation})"
   ]
  },
  {
   "cell_type": "markdown",
   "metadata": {},
   "source": [
    "# evaluate xgb in sagemaker"
   ]
  },
  {
   "cell_type": "code",
   "execution_count": null,
   "metadata": {},
   "outputs": [],
   "source": [
    "# use batch transform to predict test dataset\n",
    "# The location of the test dataset\n",
    "batch_input = 's3://{}/{}/test'.format(bucket, prefix) \n",
    "# The location to store the results of the batch transform job\n",
    "batch_output = 's3://{}/{}/batch-inference'.format(bucket, prefix) \n",
    "# transforming\n",
    "transformer = sagemaker_xgb.transformer(instance_count=1, instance_type='ml.m4.xlarge', output_path=batch_output)\n",
    "\n",
    "transformer.transform(data=batch_input, data_type='S3Prefix', content_type='text/csv', split_type='Line')\n",
    "\n",
    "transformer.wait()"
   ]
  },
  {
   "cell_type": "code",
   "execution_count": null,
   "metadata": {},
   "outputs": [],
   "source": [
    "# load prediction result caculate rmse\n",
    "obj = s3_client.get_object(Bucket=bucket, Key='{}/batch-inference/xgboost_test.csv.out'.format(prefix))\n",
    "df_pre = pd.read_csv(obj['Body'],header=None)"
   ]
  },
  {
   "cell_type": "code",
   "execution_count": null,
   "metadata": {},
   "outputs": [],
   "source": [
    "# evaluation\n",
    "sm_y_pre = df_pre.values.flatten()\n",
    "sm_y = df_test_label.values.flatten()\n",
    "mean_squared_error(y, y_predicted)"
   ]
  },
  {
   "cell_type": "markdown",
   "metadata": {},
   "source": [
    "# model2: naive bayes"
   ]
  },
  {
   "cell_type": "code",
   "execution_count": null,
   "metadata": {},
   "outputs": [],
   "source": [
    "gnb = GaussianNB()\n",
    "y_pred = gnb.fit(X_train, y_train).predict(X_test)"
   ]
  },
  {
   "cell_type": "code",
   "execution_count": null,
   "metadata": {},
   "outputs": [],
   "source": [
    "mean_squared_error(y,y_pred)"
   ]
  },
  {
   "cell_type": "code",
   "execution_count": null,
   "metadata": {},
   "outputs": [],
   "source": []
  }
 ],
 "metadata": {
  "kernelspec": {
   "display_name": "conda_python3",
   "language": "python",
   "name": "conda_python3"
  },
  "language_info": {
   "codemirror_mode": {
    "name": "ipython",
    "version": 3
   },
   "file_extension": ".py",
   "mimetype": "text/x-python",
   "name": "python",
   "nbconvert_exporter": "python",
   "pygments_lexer": "ipython3",
   "version": "3.6.5"
  }
 },
 "nbformat": 4,
 "nbformat_minor": 4
}
