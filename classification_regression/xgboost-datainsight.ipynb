{
 "cells": [
  {
   "cell_type": "markdown",
   "metadata": {},
   "source": [
    "This task is for Football players' Classification & Regression in FIFA-19 dataset\n",
    "\n",
    "In this task, you're required to do the data insight and prepare the dataset for model training\n",
    "\n",
    "Feature engineering is welcomed, you're encourged to extract features as many as you can\n",
    "\n",
    "You can choose different models to do the classification and regression work, or try to use other tricks to win higher score. (ensemble learning ...)\n",
    "\n",
    "Have fun! Goal!Goal!Goal!"
   ]
  },
  {
   "cell_type": "code",
   "execution_count": null,
   "metadata": {},
   "outputs": [],
   "source": [
    "import sys\n",
    "import pandas as pd\n",
    "import warnings\n",
    "import re\n",
    "warnings.filterwarnings('ignore')\n",
    "pd.set_option('display.max_columns', None)"
   ]
  },
  {
   "cell_type": "code",
   "execution_count": null,
   "metadata": {},
   "outputs": [],
   "source": [
    "# load data\n",
    "df_origin = pd.read_csv('./data/Xgboost-origin_data.csv')"
   ]
  },
  {
   "cell_type": "code",
   "execution_count": null,
   "metadata": {},
   "outputs": [],
   "source": [
    "# data distribution\n",
    "df_origin.describe()"
   ]
  },
  {
   "cell_type": "code",
   "execution_count": null,
   "metadata": {},
   "outputs": [],
   "source": [
    "# check specific data\n",
    "df_origin.head(2)"
   ]
  },
  {
   "cell_type": "code",
   "execution_count": null,
   "metadata": {},
   "outputs": [],
   "source": [
    "# column info and related data type\n",
    "df_origin.info()"
   ]
  },
  {
   "cell_type": "code",
   "execution_count": null,
   "metadata": {},
   "outputs": [],
   "source": [
    "# catagory feature\n",
    "df_origin.select_dtypes(include=object).columns"
   ]
  },
  {
   "cell_type": "code",
   "execution_count": null,
   "metadata": {},
   "outputs": [],
   "source": [
    "#  feature\n",
    "df_origin.select_dtypes(include=object).columns"
   ]
  },
  {
   "cell_type": "code",
   "execution_count": null,
   "metadata": {},
   "outputs": [],
   "source": [
    "df_origin['StandingTackle']"
   ]
  },
  {
   "cell_type": "code",
   "execution_count": null,
   "metadata": {},
   "outputs": [],
   "source": [
    "# deal with feature one by one"
   ]
  },
  {
   "cell_type": "code",
   "execution_count": null,
   "metadata": {},
   "outputs": [],
   "source": [
    "# drop the unnamed column\n",
    "df_origin.drop(columns='Unnamed: 0',inplace=True)"
   ]
  },
  {
   "cell_type": "code",
   "execution_count": null,
   "metadata": {},
   "outputs": [],
   "source": [
    "# Name\n",
    "# duplication of name?\n",
    "df_origin['Name'].describe()"
   ]
  },
  {
   "cell_type": "code",
   "execution_count": null,
   "metadata": {},
   "outputs": [],
   "source": [
    "df_origin[df_origin['Name']=='J. Rodríguez']"
   ]
  },
  {
   "cell_type": "code",
   "execution_count": null,
   "metadata": {},
   "outputs": [],
   "source": [
    "# drop the name\n",
    "df_origin.drop(columns='Name',inplace=True)"
   ]
  },
  {
   "cell_type": "code",
   "execution_count": null,
   "metadata": {},
   "outputs": [],
   "source": [
    "# ID\n",
    "# drop the ID\n",
    "df_origin.drop(columns='ID',inplace=True)"
   ]
  },
  {
   "cell_type": "code",
   "execution_count": null,
   "metadata": {},
   "outputs": [],
   "source": [
    "# Photo & Flag\n",
    "# drop the Photo & Flag\n",
    "df_origin.drop(columns=['Photo','Flag'],inplace=True)"
   ]
  },
  {
   "cell_type": "code",
   "execution_count": null,
   "metadata": {},
   "outputs": [],
   "source": [
    "# Nationality\n",
    "# drop \n",
    "df_origin.drop(columns=['Nationality'],inplace=True)"
   ]
  },
  {
   "cell_type": "code",
   "execution_count": null,
   "metadata": {},
   "outputs": [],
   "source": [
    "# Club Logo\n",
    "# drop\n",
    "df_origin.drop(columns=['Club Logo'],inplace=True)"
   ]
  },
  {
   "cell_type": "code",
   "execution_count": null,
   "metadata": {},
   "outputs": [],
   "source": [
    "# Real Face \n",
    "# drop\n",
    "df_origin.drop(columns=['Real Face'],inplace=True)"
   ]
  },
  {
   "cell_type": "code",
   "execution_count": null,
   "metadata": {},
   "outputs": [],
   "source": [
    "# Club\n",
    "# drop\n",
    "df_origin.drop(columns=['Club'],inplace=True)"
   ]
  },
  {
   "cell_type": "code",
   "execution_count": null,
   "metadata": {},
   "outputs": [],
   "source": [
    "# Value\n",
    "# change to float type\n",
    "df_origin['Value'].isnull().sum()"
   ]
  },
  {
   "cell_type": "code",
   "execution_count": null,
   "metadata": {},
   "outputs": [],
   "source": [
    "df_tmp1 = df_origin['Value'].str.extract('€(.*)([M|K|\\S])', expand=True)\n",
    "df_tmp1[0] = df_tmp1[0].apply(pd.to_numeric)\n",
    "df_tmp1[0] = df_tmp1.apply(lambda k: k[0]*1000 if k[1]=='M' else (k[0] if k[1]=='K' else 0),axis=1)\n",
    "df_origin['Value'] = df_tmp1[0]"
   ]
  },
  {
   "cell_type": "code",
   "execution_count": null,
   "metadata": {},
   "outputs": [],
   "source": [
    "# Wage\n",
    "# change to float type\n",
    "df_origin['Wage'].isnull().sum()"
   ]
  },
  {
   "cell_type": "code",
   "execution_count": null,
   "metadata": {},
   "outputs": [],
   "source": [
    "df_tmp2 = df_origin['Wage'].str.extract('€(.*)([M|K|\\S])', expand=True)\n",
    "df_tmp2[0] = df_tmp2[0].apply(pd.to_numeric)\n",
    "df_tmp2[0] = df_tmp2.apply(lambda k: k[0]*1000 if k[1]=='M' else (k[0] if k[1]=='K' else 0),axis=1)\n",
    "df_origin['Wage'] = df_tmp2[0]"
   ]
  },
  {
   "cell_type": "code",
   "execution_count": null,
   "metadata": {},
   "outputs": [],
   "source": [
    "# To see na in features\n",
    "df_origin.isnull().sum()"
   ]
  },
  {
   "cell_type": "code",
   "execution_count": null,
   "metadata": {},
   "outputs": [],
   "source": [
    "# Preferred Foot\n",
    "df_origin[df_origin['Preferred Foot'].isna()].head()"
   ]
  },
  {
   "cell_type": "code",
   "execution_count": null,
   "metadata": {},
   "outputs": [],
   "source": [
    "df_origin.drop(index=df_origin[df_origin['Preferred Foot'].isna()].index, inplace=True)"
   ]
  },
  {
   "cell_type": "code",
   "execution_count": null,
   "metadata": {},
   "outputs": [],
   "source": [
    "df_origin['Preferred Foot'] = df_origin['Preferred Foot'].apply(lambda k : 0 if k == 'Left' else 1)"
   ]
  },
  {
   "cell_type": "code",
   "execution_count": null,
   "metadata": {},
   "outputs": [],
   "source": [
    "# Work Rate\n",
    "df_tmp3 = df_origin['Work Rate'].str.extract('(.*)/(.*)', expand=True)"
   ]
  },
  {
   "cell_type": "code",
   "execution_count": null,
   "metadata": {},
   "outputs": [],
   "source": [
    "df_tmp3[0].unique()"
   ]
  },
  {
   "cell_type": "code",
   "execution_count": null,
   "metadata": {},
   "outputs": [],
   "source": [
    "df_tmp3[1].unique()"
   ]
  },
  {
   "cell_type": "code",
   "execution_count": null,
   "metadata": {},
   "outputs": [],
   "source": [
    "df_tmp3[0] = df_tmp3[0].apply(lambda k: 1 if k=='Medium' else (0 if k=='Low' else 2))\n",
    "df_tmp3[1] = df_tmp3[1].apply(lambda k: 1 if k==' Medium' else (0 if k==' Low' else 2))\n",
    "df_tmp3.columns = ['Offence_rate','Deffence_rate']"
   ]
  },
  {
   "cell_type": "code",
   "execution_count": null,
   "metadata": {},
   "outputs": [],
   "source": [
    "df_origin = df_origin.join(df_tmp3)"
   ]
  },
  {
   "cell_type": "code",
   "execution_count": null,
   "metadata": {},
   "outputs": [],
   "source": [
    "df_origin.drop(columns='Work Rate',inplace=True)"
   ]
  },
  {
   "cell_type": "code",
   "execution_count": null,
   "metadata": {},
   "outputs": [],
   "source": [
    "# Body Type\n",
    "df_origin.drop(columns='Body Type',inplace=True)"
   ]
  },
  {
   "cell_type": "code",
   "execution_count": null,
   "metadata": {},
   "outputs": [],
   "source": [
    "# Position\n",
    "df_origin.drop(index=df_origin[df_origin['Position'].isna()].index, inplace=True)"
   ]
  },
  {
   "cell_type": "code",
   "execution_count": null,
   "metadata": {},
   "outputs": [],
   "source": [
    "# change to one-hot\n",
    "df_origin = df_origin.join(pd.get_dummies(df_origin['Position'],prefix='Pos', drop_first=True))"
   ]
  },
  {
   "cell_type": "code",
   "execution_count": null,
   "metadata": {},
   "outputs": [],
   "source": [
    "df_origin.drop(columns='Position',inplace=True)"
   ]
  },
  {
   "cell_type": "code",
   "execution_count": null,
   "metadata": {},
   "outputs": [],
   "source": [
    "# Jersey Number\n",
    "df_origin['Jersey Number'].isnull().sum()"
   ]
  },
  {
   "cell_type": "code",
   "execution_count": null,
   "metadata": {},
   "outputs": [],
   "source": [
    "# Join the club\n",
    "df_origin.drop(columns='Joined',inplace=True)"
   ]
  },
  {
   "cell_type": "code",
   "execution_count": null,
   "metadata": {},
   "outputs": [],
   "source": [
    "# Loamed From\n",
    "# Check for missing values in columns where missing values is more than half of the total number of values.\n",
    "df_origin.isnull().sum()[df_origin.isnull().sum() >= 10000]"
   ]
  },
  {
   "cell_type": "code",
   "execution_count": null,
   "metadata": {},
   "outputs": [],
   "source": [
    "# drop\n",
    "df_origin.drop(columns='Loaned From',inplace=True)"
   ]
  },
  {
   "cell_type": "code",
   "execution_count": null,
   "metadata": {},
   "outputs": [],
   "source": [
    "# To see na in features\n",
    "df_origin.isnull().sum()"
   ]
  },
  {
   "cell_type": "code",
   "execution_count": null,
   "metadata": {},
   "outputs": [],
   "source": [
    "# Contract Valid Until\n",
    "# drop\n",
    "df_origin.drop(columns='Contract Valid Until',inplace=True)"
   ]
  },
  {
   "cell_type": "code",
   "execution_count": null,
   "metadata": {},
   "outputs": [],
   "source": [
    "df_origin.head(5).iloc[:,8:]"
   ]
  },
  {
   "cell_type": "code",
   "execution_count": null,
   "metadata": {},
   "outputs": [],
   "source": [
    "# Height\n",
    "df_tmp5 = pd.DataFrame(df_origin['Height'].str.split('\\'').tolist(),\n",
    "                                   columns = ['h1','h2'],index = df_origin.index)\n",
    "df_tmp5['h1'] = df_tmp5['h1'].apply(pd.to_numeric)\n",
    "df_tmp5['h2'] = df_tmp5['h2'].apply(pd.to_numeric)"
   ]
  },
  {
   "cell_type": "code",
   "execution_count": null,
   "metadata": {},
   "outputs": [],
   "source": [
    "df_tmp6 = df_tmp5.apply(lambda k: k[0]*30.4+k[1]*2.54,axis=1).to_frame(name='Height')"
   ]
  },
  {
   "cell_type": "code",
   "execution_count": null,
   "metadata": {},
   "outputs": [],
   "source": [
    "# drop the old height first\n",
    "df_origin.drop(columns='Height',inplace=True)"
   ]
  },
  {
   "cell_type": "code",
   "execution_count": null,
   "metadata": {},
   "outputs": [],
   "source": [
    "df_origin = df_origin.join(df_tmp6)"
   ]
  },
  {
   "cell_type": "code",
   "execution_count": null,
   "metadata": {},
   "outputs": [],
   "source": [
    "# Weight\n",
    "df_tmp7 = df_origin['Weight'].str.extract('(.*)lbs', expand=True)\n",
    "df_tmp7.columns = ['Weight']\n",
    "# drop the olde height first\n",
    "df_origin.drop(columns='Weight',inplace=True)\n",
    "# add new\n",
    "df_origin = df_origin.join(df_tmp7)"
   ]
  },
  {
   "cell_type": "code",
   "execution_count": null,
   "metadata": {},
   "outputs": [],
   "source": [
    "# drop the old height first\n",
    "df_origin.drop(columns='Release Clause',inplace=True)"
   ]
  },
  {
   "cell_type": "code",
   "execution_count": null,
   "metadata": {},
   "outputs": [],
   "source": [
    "df_origin.fillna(value=0, inplace=True)"
   ]
  },
  {
   "cell_type": "code",
   "execution_count": null,
   "metadata": {},
   "outputs": [],
   "source": [
    "# deal with LS\tST\tRS\tLW\tLF\tCF\tRF\tRW....\n",
    "#Function to convert skill rating at each position.\n",
    "def skillConverter(val):\n",
    "    if type(val) == str:\n",
    "        s1 = val[0:2]\n",
    "        s2 = val[-1]\n",
    "        val = int(s1) + int(s2)\n",
    "        return val\n",
    "    \n",
    "    else:\n",
    "        return val"
   ]
  },
  {
   "cell_type": "code",
   "execution_count": null,
   "metadata": {},
   "outputs": [],
   "source": [
    "skill_columns = ['LS', 'ST', 'RS', 'LW', 'LF', 'CF', 'RF', 'RW', 'LAM', 'CAM',\n",
    "       'RAM', 'LM', 'LCM', 'CM', 'RCM', 'RM', 'LWB', 'LDM', 'CDM', 'RDM',\n",
    "       'RWB', 'LB', 'LCB', 'CB', 'RCB', 'RB']\n",
    "                      \n",
    "for col in skill_columns:\n",
    "    df_origin[col] = df_origin[col].apply(skillConverter)"
   ]
  },
  {
   "cell_type": "code",
   "execution_count": null,
   "metadata": {},
   "outputs": [],
   "source": [
    "df_origin.head(5)"
   ]
  },
  {
   "cell_type": "code",
   "execution_count": null,
   "metadata": {},
   "outputs": [],
   "source": [
    "# get the label \n",
    "df_label = df_origin['Overall'].to_frame()\n",
    "# drop the label\n",
    "df_origin.drop(columns=['Overall'],inplace=True)"
   ]
  },
  {
   "cell_type": "code",
   "execution_count": null,
   "metadata": {},
   "outputs": [],
   "source": [
    "df_origin.index.name = \"index\""
   ]
  },
  {
   "cell_type": "code",
   "execution_count": null,
   "metadata": {},
   "outputs": [],
   "source": [
    "df_origin.drop(columns=['Unnamed: 0.1'],inplace=True)"
   ]
  },
  {
   "cell_type": "code",
   "execution_count": null,
   "metadata": {},
   "outputs": [],
   "source": [
    "df_label.index.name = \"index\"\n",
    "df_label.columns.values[0] = \"label\""
   ]
  },
  {
   "cell_type": "code",
   "execution_count": null,
   "metadata": {},
   "outputs": [],
   "source": [
    "# save the data for model training"
   ]
  },
  {
   "cell_type": "code",
   "execution_count": null,
   "metadata": {},
   "outputs": [],
   "source": [
    "df_label.to_csv('./labels.csv',)\n",
    "df_origin.to_csv('./features.csv')"
   ]
  },
  {
   "cell_type": "code",
   "execution_count": null,
   "metadata": {},
   "outputs": [],
   "source": []
  }
 ],
 "metadata": {
  "kernelspec": {
   "display_name": "conda_python3",
   "language": "python",
   "name": "conda_python3"
  },
  "language_info": {
   "codemirror_mode": {
    "name": "ipython",
    "version": 3
   },
   "file_extension": ".py",
   "mimetype": "text/x-python",
   "name": "python",
   "nbconvert_exporter": "python",
   "pygments_lexer": "ipython3",
   "version": "3.6.5"
  }
 },
 "nbformat": 4,
 "nbformat_minor": 4
}
