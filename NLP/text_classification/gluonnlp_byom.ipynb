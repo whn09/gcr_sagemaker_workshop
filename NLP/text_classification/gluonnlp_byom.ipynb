{
 "cells": [
  {
   "cell_type": "markdown",
   "metadata": {},
   "source": [
    "Create an IAM role called [SageMakerRole] with AmazonSageMakerFullAccess and AmazonEC2ContainerRegistryFullAccess manually\n",
    "\n",
    "Add the IAM role of the notebook with AmazonEC2ContainerRegistryFullAccess mannually"
   ]
  },
  {
   "cell_type": "markdown",
   "metadata": {},
   "source": [
    "# Create MXNet Container"
   ]
  },
  {
   "cell_type": "code",
   "execution_count": null,
   "metadata": {},
   "outputs": [],
   "source": [
    "# Create the binary\n",
    "!git clone https://github.com/aws/sagemaker-mxnet-container.git\n",
    "!cd sagemaker-mxnet-container\n",
    "!git checkout v3.1.2\n",
    "!python setup.py sdist"
   ]
  },
  {
   "cell_type": "code",
   "execution_count": null,
   "metadata": {},
   "outputs": [],
   "source": [
    "# MXNet 1.4.1, Python 3, CPU\n",
    "!cp dist/sagemaker_mxnet_container-3.1.2.tar.gz docker/1.4.1/py3/sagemaker_mxnet_container.tar.gz\n",
    "!cd docker/1.4.1/py3/\n",
    "!docker build -t preprod-mxnet:1.4.1-cpu-py3 -f Dockerfile.cpu ."
   ]
  },
  {
   "cell_type": "code",
   "execution_count": null,
   "metadata": {},
   "outputs": [],
   "source": [
    "!cd ../../../\n",
    "!pip install -e .[test]"
   ]
  },
  {
   "cell_type": "code",
   "execution_count": null,
   "metadata": {},
   "outputs": [],
   "source": [
    "# May fail\n",
    "!tox test/unit"
   ]
  },
  {
   "cell_type": "code",
   "execution_count": null,
   "metadata": {},
   "outputs": [],
   "source": [
    "# May fail\n",
    "!tox -- test/integration/local --docker-base-name preprod-mxnet \\\n",
    "                              --tag 1.4.1-cpu-py3 \\\n",
    "                              --py-version 3 \\\n",
    "                              --framework-version 1.4.1 \\\n",
    "                              --processor cpu"
   ]
  },
  {
   "cell_type": "code",
   "execution_count": null,
   "metadata": {},
   "outputs": [],
   "source": [
    "# upload container to ECS\n",
    "# create-repository in ECR mannually\n",
    "!$(aws ecr get-login --region us-east-1 --no-include-email)\n",
    "!docker tag preprod-mxnet:1.4.1-cpu-py3 579019700964.dkr.ecr.us-east-1.amazonaws.com/preprod-mxnet:1.4.1-cpu-py3\n",
    "!docker push 579019700964.dkr.ecr.us-east-1.amazonaws.com/preprod-mxnet:1.4.1-cpu-py3"
   ]
  },
  {
   "cell_type": "code",
   "execution_count": null,
   "metadata": {},
   "outputs": [],
   "source": [
    "# May fail\n",
    "!tox -- test/integration/sagemaker --aws-id 579019700964 \\\n",
    "                                  --docker-base-name preprod-mxnet \\\n",
    "                                  --instance-type ml.m4.xlarge \\\n",
    "                                  --tag 1.4.1-cpu-py3"
   ]
  },
  {
   "cell_type": "markdown",
   "metadata": {},
   "source": [
    "# Create TextClassification Train Docker"
   ]
  },
  {
   "cell_type": "code",
   "execution_count": null,
   "metadata": {},
   "outputs": [],
   "source": [
    "# create train\n",
    "\n",
    "# create hyperparameters.json\n",
    "\n",
    "# create Dockerfile.train\n",
    "\n",
    "!./classification-example.sh\n",
    "\n",
    "!./build_and_push.sh text-classification-train train\n",
    "\n",
    "!docker run text_classification_train train"
   ]
  },
  {
   "cell_type": "markdown",
   "metadata": {},
   "source": [
    "# Test TextClassification Train Docker"
   ]
  },
  {
   "cell_type": "code",
   "execution_count": null,
   "metadata": {},
   "outputs": [],
   "source": [
    "import boto3\n",
    "\n",
    "client = boto3.client('sts')\n",
    "account = client.get_caller_identity()['Account']\n",
    "\n",
    "my_session = boto3.session.Session()\n",
    "region = my_session.region_name\n",
    "\n",
    "algorithm_name = 'text-classification-train'\n",
    "\n",
    "ecr_image = '{}.dkr.ecr.{}.amazonaws.com/{}:latest'.format(account, region, algorithm_name)\n",
    "\n",
    "print(ecr_image)"
   ]
  },
  {
   "cell_type": "code",
   "execution_count": null,
   "metadata": {},
   "outputs": [],
   "source": [
    "!aws s3 cp data/dbpedia.train s3://sagemaker-us-east-1-579019700964/gcr_sagemaker_workshop/NLP/gluonnlp/data/dbpedia.train\n",
    "!aws s3 cp data/dbpedia.test s3://sagemaker-us-east-1-579019700964/gcr_sagemaker_workshop/NLP/gluonnlp/data/dbpedia.test"
   ]
  },
  {
   "cell_type": "code",
   "execution_count": null,
   "metadata": {},
   "outputs": [],
   "source": [
    "import json\n",
    "from sagemaker.estimator import Estimator\n",
    "from sagemaker import get_execution_role, session\n",
    "\n",
    "role = get_execution_role()\n",
    "\n",
    "hyperparameters = json.load(open('hyperparameters.json', 'r'))\n",
    "\n",
    "bucket = session.default_bucket()\n",
    "s3_train_data = 's3://{}/{}'.format(bucket, 'gcr_sagemaker_workshop/NLP/gluonnlp/data/dbpedia.train')\n",
    "s3_validation_data = 's3://{}/{}'.format(bucket, 'gcr_sagemaker_workshop/NLP/gluonnlp/data/dbpedia.test')\n",
    "train_data = session.s3_input(s3_train_data, distribution='FullyReplicated', \n",
    "                        content_type='text/plain', s3_data_type='S3Prefix')\n",
    "validation_data = session.s3_input(s3_validation_data, distribution='FullyReplicated', \n",
    "                             content_type='text/plain', s3_data_type='S3Prefix')\n",
    "data_channels = {'train': train_data, 'validation': validation_data}\n",
    "\n",
    "instance_type = 'ml.m4.xlarge'\n",
    "\n",
    "estimator = Estimator(role=role,\n",
    "                      train_instance_count=1,\n",
    "                      train_instance_type=instance_type,\n",
    "                      image_name=ecr_image,\n",
    "                      hyperparameters=hyperparameters)\n",
    "\n",
    "estimator.fit(data_channels)"
   ]
  },
  {
   "cell_type": "markdown",
   "metadata": {},
   "source": [
    "# Create MXNet Serving Container"
   ]
  },
  {
   "cell_type": "code",
   "execution_count": null,
   "metadata": {},
   "outputs": [],
   "source": [
    "!git clone https://github.com/aws/sagemaker-mxnet-serving-container.git\n",
    "!cd sagemaker-mxnet-serving-container\n",
    "!git checkout v1.1.3\n",
    "!python setup.py sdist"
   ]
  },
  {
   "cell_type": "code",
   "execution_count": null,
   "metadata": {},
   "outputs": [],
   "source": [
    "!cp dist/sagemaker_mxnet_serving_container-1.1.3.tar.gz docker/1.4.1/py3/sagemaker_mxnet_serving_container.tar.gz\n",
    "!cd docker/1.4.1/py3/\n",
    "!docker build -t preprod-mxnet-serving:1.4.1-cpu-py3 -f Dockerfile.cpu ."
   ]
  },
  {
   "cell_type": "code",
   "execution_count": null,
   "metadata": {},
   "outputs": [],
   "source": [
    "!cd ../../../\n",
    "!pip install -e .[test]"
   ]
  },
  {
   "cell_type": "code",
   "execution_count": null,
   "metadata": {},
   "outputs": [],
   "source": [
    "!tox test/unit"
   ]
  },
  {
   "cell_type": "code",
   "execution_count": null,
   "metadata": {},
   "outputs": [],
   "source": [
    "# May fail\n",
    "!tox test/integration/local -- --docker-base-name preprod-mxnet-serving \\\n",
    "                              --tag 1.4.1-cpu-py3 \\\n",
    "                              --py-version 3 \\\n",
    "                              --framework-version 1.4.1 \\\n",
    "                              --processor cpu"
   ]
  },
  {
   "cell_type": "code",
   "execution_count": null,
   "metadata": {},
   "outputs": [],
   "source": [
    "# upload container to ECS\n",
    "# create-repository in ECR mannually\n",
    "!$(aws ecr get-login --region us-east-1 --no-include-email)\n",
    "!docker tag preprod-mxnet-serving:1.4.1-cpu-py3 579019700964.dkr.ecr.us-east-1.amazonaws.com/preprod-mxnet-serving:1.4.1-cpu-py3\n",
    "!docker push 579019700964.dkr.ecr.us-east-1.amazonaws.com/preprod-mxnet-serving:1.4.1-cpu-py3"
   ]
  },
  {
   "cell_type": "code",
   "execution_count": null,
   "metadata": {},
   "outputs": [],
   "source": [
    "# May fail\n",
    "!tox test/integration/sagemaker -- --aws-id 579019700964 \\\n",
    "                                  --docker-base-name preprod-mxnet-serving \\\n",
    "                                  --instance-type ml.m4.xlarge \\\n",
    "                                  --tag 1.4.1-cpu-py3"
   ]
  },
  {
   "cell_type": "markdown",
   "metadata": {},
   "source": [
    "# Create TextClassification Serving Docker"
   ]
  },
  {
   "cell_type": "code",
   "execution_count": null,
   "metadata": {},
   "outputs": [],
   "source": [
    "!cd gluon-nlp/model_zoo/text_classification/\n",
    "\n",
    "# create serve\n",
    "\n",
    "# create Dockerfile.serve\n",
    "\n",
    "chmod +x build_and_push.sh\n",
    "./build_and_push.sh text-classification-serve serve\n",
    "\n",
    "!docker run text_classification_serve serve"
   ]
  }
 ],
 "metadata": {
  "kernelspec": {
   "display_name": "conda_python3",
   "language": "python",
   "name": "conda_python3"
  },
  "language_info": {
   "codemirror_mode": {
    "name": "ipython",
    "version": 3
   },
   "file_extension": ".py",
   "mimetype": "text/x-python",
   "name": "python",
   "nbconvert_exporter": "python",
   "pygments_lexer": "ipython3",
   "version": "3.6.5"
  }
 },
 "nbformat": 4,
 "nbformat_minor": 4
}
