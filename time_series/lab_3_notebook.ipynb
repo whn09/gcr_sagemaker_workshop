{
 "cells": [
  {
   "cell_type": "markdown",
   "metadata": {},
   "source": [
    "# Lab 3: Building a Neural Network with Gluon\n",
    "\n",
    "## Background to Lab\n",
    "\n",
    "In this lab, you will use an Amazon SageMaker-hosted notebook running on an `ml.m4.xlarge` instance and the MXNet kernel to train a neural network using Gluon. You will then perform predictions against this model to identify different items of clothing within the FashionMNIST dataset via Gluon’s `data.vision.datasets` module.\n",
    "\n",
    "### Acknowledgements and Dataset License\n",
    "\n",
    "This lab is based on the [Gluon Crash Course](https://gluon-crash-course.mxnet.io), which is in turn based on content from [Deep Learning - The Straight Dope](https://gluon.mxnet.io/).\n",
    "\n",
    "Notebook material has also been used from [Simon Corston-Oliver's GitHub](https://github.com/simoncorstonoliver/DeepLearningWithMXNetGluon)\n",
    "\n",
    "Below is the licensing agreement for the dataset used in this lab.\n",
    "\n",
    "The MIT License (MIT) Copyright © [2017] Zalando SE, https://tech.zalando.com.\n",
    "\n",
    "THE SOFTWARE IS PROVIDED “AS IS”, WITHOUT WARRANTY OF ANY KIND, EXPRESS OR IMPLIED, INCLUDING BUT NOT LIMITED TO THE WARRANTIES OF MERCHANTABILITY, FITNESS FOR A PARTICULAR PURPOSE AND NONINFRINGEMENT. IN NO EVENT SHALL THE AUTHORS OR COPYRIGHT HOLDERS BE LIABLE FOR ANY CLAIM, DAMAGES OR OTHER LIABILITY, WHETHER IN AN ACTION OF CONTRACT, TORT OR OTHERWISE, ARISING FROM, OUT OF OR IN CONNECTION WITH THE SOFTWARE OR THE USE OR OTHER DEALINGS IN THE SOFTWARE.\n",
    "\n",
    "### Table of Contents <a name=\"toc\"></a>\n",
    "\n",
    "1. <a href=\"#start\">Getting Started</a>\n",
    "1. <a href=\"#datamanipulation\">Data Manipulation</a>\n",
    "1. <a href=\"#neuralnetwork\">Create a Neural Network</a>\n",
    "1. <a href=\"#differentiation\">Automatic Differentiation with `autograd`</a>\n",
    "1. <a href=\"#train\">Train the Neural Network</a>\n",
    "1. <a href=\"#predict\">Predict with a Pre-Trained Model</a>\n",
    "\n",
    "## Getting Started\n",
    "<a name=\"start\"></a>\n",
    "\n",
    "To complete this lab, carefully move through this notebook, from top to bottom, making sure to read all text instructions/explanations and run each code cell in order. Also be sure to view the code cell outputs. To run each cell, step-by-step in the Jupyter notebook, click within the cell and press **SHIFT + ENTER** or choose **Run** at the top of the page. You will know that a code cell has completed running when you see a number inside the square brackets located to the left of the code cell. Alternatively, **[ ]** indicates the cell has yet to be run, and **[*]** indicates that the cell is still processing.\n",
    "\n",
    "## Data Manipulation\n",
    "<a name=\"datamanipulation\"></a>\n",
    "\n",
    "Now to get started, install the needed utilities and packages for the lab.\n",
    "\n",
    "<div style=\"text-align: right\"><a href=\"#toc\">Back to top</a></div>"
   ]
  },
  {
   "cell_type": "code",
   "execution_count": 1,
   "metadata": {},
   "outputs": [
    {
     "data": {
      "text/plain": [
       "{'width': 1000, 'height': 800, 'scroll': True}"
      ]
     },
     "execution_count": 1,
     "metadata": {},
     "output_type": "execute_result"
    }
   ],
   "source": [
    "import matplotlib.pyplot as plt\n",
    "import numpy as np\n",
    "import mxnet as mx\n",
    "from mxnet import autograd\n",
    "from mxnet import gluon\n",
    "from mxnet import init\n",
    "from mxnet import nd\n",
    "from mxnet import image\n",
    "from mxnet.gluon import nn\n",
    "from mxnet.gluon.data.vision import datasets, transforms\n",
    "from mxnet.gluon.model_zoo import vision as models\n",
    "from mxnet.gluon.utils import download\n",
    "from notebook.services.config import ConfigManager\n",
    "from time import time\n",
    "\n",
    "cm = ConfigManager()\n",
    "cm.update('livereveal', {\n",
    "              'width': 1000,\n",
    "              'height': 800,\n",
    "              'scroll': True,\n",
    "})"
   ]
  },
  {
   "cell_type": "markdown",
   "metadata": {},
   "source": [
    "Matrix operations form the core computational requirement when working on neural networks and lend themselves well to massive parallel processing operations across GPUs. Indeed, when formulating your problem, you begin with a set of inputs, which may take the form of a matrix. These inputs are manipulated through a series of operations such as multiplication or transformations to ultimately lead to a set of output results. In Python, NumPy is a key scientific computing package allowing manipulation of n-dimensional arrays. In MXNet and Gluon, there is the concept of NDArray, which is very similar to NumPy. This forms the basis of many matrix operations when computing neural networks."
   ]
  },
  {
   "cell_type": "code",
   "execution_count": 2,
   "metadata": {},
   "outputs": [
    {
     "data": {
      "text/plain": [
       "\n",
       "[[1. 1. 1.]\n",
       " [1. 1. 1.]]\n",
       "<NDArray 2x3 @cpu(0)>"
      ]
     },
     "execution_count": 2,
     "metadata": {},
     "output_type": "execute_result"
    }
   ],
   "source": [
    "x = nd.ones(shape=(2, 3))\n",
    "x"
   ]
  },
  {
   "cell_type": "markdown",
   "metadata": {},
   "source": [
    "Often you’ll want to create arrays with values that are sampled randomly. For example, sampling values uniformly between `-1` and `1`. Here you can create the same shape, but with random sampling."
   ]
  },
  {
   "cell_type": "code",
   "execution_count": 3,
   "metadata": {},
   "outputs": [
    {
     "data": {
      "text/plain": [
       "\n",
       "[[0.09762704 0.18568921 0.43037868]\n",
       " [0.6885315  0.20552671 0.71589124]]\n",
       "<NDArray 2x3 @cpu(0)>"
      ]
     },
     "execution_count": 3,
     "metadata": {},
     "output_type": "execute_result"
    }
   ],
   "source": [
    "y = nd.random.uniform(low=-1, high=1, shape=(2,3))\n",
    "y"
   ]
  },
  {
   "cell_type": "markdown",
   "metadata": {},
   "source": [
    "As with NumPy, the dimensions of each NDArray are accessible by accessing the `.shape` attribute. You can also query its `size`, which is equal to the product of the components of the shape. In addition, `.dtype` tells the data type of the stored values."
   ]
  },
  {
   "cell_type": "code",
   "execution_count": 4,
   "metadata": {},
   "outputs": [
    {
     "data": {
      "text/plain": [
       "((2, 3), 6, numpy.float32, cpu(0))"
      ]
     },
     "execution_count": 4,
     "metadata": {},
     "output_type": "execute_result"
    }
   ],
   "source": [
    "# NDArray Metadata\n",
    "(x.shape, x.size, x.dtype, x.context)"
   ]
  },
  {
   "cell_type": "code",
   "execution_count": 5,
   "metadata": {},
   "outputs": [
    {
     "data": {
      "text/plain": [
       "\n",
       "[[1 1 1]\n",
       " [1 1 1]]\n",
       "<NDArray 2x3 @cpu(0)>"
      ]
     },
     "execution_count": 5,
     "metadata": {},
     "output_type": "execute_result"
    }
   ],
   "source": [
    "# Type\n",
    "nd.ones((2,3), dtype=np.uint8)"
   ]
  },
  {
   "cell_type": "markdown",
   "metadata": {},
   "source": [
    "### Context \n",
    "\n",
    "Unlike Numpy, NDArray has a `context` attribute that specifies which device the array resides on. By default, it is `cpu()`. To use the CPU to process the NDArray, set the context attribute to be `ctx=mx.cpu()`. You could replace this with `mx.gpu()` if you wish to use GPU instances. You can define which GPU core to use via `mx.gpu(0)`, which denotes the first core; `mx.gpu(1)` denotes the second and so on. When you call NDArray, the output will tell you where the data is stored. In the below example, this is `<NDArray 2x3 @cpu(0)>`, identifying that the array is stored on the first CPU core.\n",
    "\n",
    "For a CPU, MXNet will allocate data on main memory, and try to use all CPU cores where possible, even if there is more than one CPU socket available. Conversely, if there are multiple GPUs, MXNet needs to specify which GPUs the NDArray will be allocated to."
   ]
  },
  {
   "cell_type": "code",
   "execution_count": 6,
   "metadata": {},
   "outputs": [
    {
     "data": {
      "text/plain": [
       "\n",
       "[[1. 1. 1.]\n",
       " [1. 1. 1.]]\n",
       "<NDArray 2x3 @cpu(0)>"
      ]
     },
     "execution_count": 6,
     "metadata": {},
     "output_type": "execute_result"
    }
   ],
   "source": [
    "nd.ones((2,3), ctx=mx.cpu())"
   ]
  },
  {
   "cell_type": "markdown",
   "metadata": {},
   "source": [
    "#### Operations\n",
    "\n",
    "NDArray supports a large number of standard mathematical operations, such as:"
   ]
  },
  {
   "cell_type": "code",
   "execution_count": 7,
   "metadata": {},
   "outputs": [
    {
     "data": {
      "text/plain": [
       "\n",
       "[[0.09762704 0.18568921 0.43037868]\n",
       " [0.6885315  0.20552671 0.71589124]]\n",
       "<NDArray 2x3 @cpu(0)>"
      ]
     },
     "execution_count": 7,
     "metadata": {},
     "output_type": "execute_result"
    }
   ],
   "source": [
    "# Element-Wise Manipulation\n",
    "x * y"
   ]
  },
  {
   "cell_type": "code",
   "execution_count": 8,
   "metadata": {},
   "outputs": [
    {
     "data": {
      "text/plain": [
       "\n",
       "[[2.7182817 2.7182817 2.7182817]\n",
       " [2.7182817 2.7182817 2.7182817]]\n",
       "<NDArray 2x3 @cpu(0)>"
      ]
     },
     "execution_count": 8,
     "metadata": {},
     "output_type": "execute_result"
    }
   ],
   "source": [
    "# Exponentiation\n",
    "x.exp()"
   ]
  },
  {
   "cell_type": "code",
   "execution_count": 9,
   "metadata": {},
   "outputs": [
    {
     "data": {
      "text/plain": [
       "((2, 3), (2, 3))"
      ]
     },
     "execution_count": 9,
     "metadata": {},
     "output_type": "execute_result"
    }
   ],
   "source": [
    "# Determine a Matrix's Transpose\n",
    "x.shape, y.shape"
   ]
  },
  {
   "cell_type": "code",
   "execution_count": 10,
   "metadata": {},
   "outputs": [
    {
     "data": {
      "text/plain": [
       "\n",
       "[[0.71369493 1.6099495 ]\n",
       " [0.71369493 1.6099495 ]]\n",
       "<NDArray 2x2 @cpu(0)>"
      ]
     },
     "execution_count": 10,
     "metadata": {},
     "output_type": "execute_result"
    }
   ],
   "source": [
    "# Matrix-Matrix Product\n",
    "nd.dot(x, y.T)"
   ]
  },
  {
   "cell_type": "markdown",
   "metadata": {},
   "source": [
    "#### Indexing"
   ]
  },
  {
   "cell_type": "code",
   "execution_count": 11,
   "metadata": {},
   "outputs": [
    {
     "data": {
      "text/plain": [
       "\n",
       "[[0.18568921 0.43037868]\n",
       " [0.20552671 0.71589124]]\n",
       "<NDArray 2x2 @cpu(0)>"
      ]
     },
     "execution_count": 11,
     "metadata": {},
     "output_type": "execute_result"
    }
   ],
   "source": [
    "# Read the 2nd and 3rd Columns\n",
    "y[:, 1:3]"
   ]
  },
  {
   "cell_type": "code",
   "execution_count": 12,
   "metadata": {},
   "outputs": [
    {
     "data": {
      "text/plain": [
       "\n",
       "[[0.09762704 0.18568921 0.43037868]\n",
       " [4.         4.         0.71589124]]\n",
       "<NDArray 2x3 @cpu(0)>"
      ]
     },
     "execution_count": 12,
     "metadata": {},
     "output_type": "execute_result"
    }
   ],
   "source": [
    "# Writing to a Specific Element\n",
    "y[1:2, 0:2] = 4\n",
    "y"
   ]
  },
  {
   "cell_type": "markdown",
   "metadata": {},
   "source": [
    "#### Converting Between MXNet NDArrays and NumPy\n",
    "\n",
    "Converting MXNet NDArrays to and from NumPy is rather simple.\n",
    "\n",
    "**Note:** The converted arrays do not share memory."
   ]
  },
  {
   "cell_type": "code",
   "execution_count": 13,
   "metadata": {},
   "outputs": [
    {
     "data": {
      "text/plain": [
       "(numpy.ndarray, array([[1., 1., 1.],\n",
       "        [1., 1., 1.]], dtype=float32))"
      ]
     },
     "execution_count": 13,
     "metadata": {},
     "output_type": "execute_result"
    }
   ],
   "source": [
    "a = x.asnumpy()\n",
    "(type(a), a)"
   ]
  },
  {
   "cell_type": "code",
   "execution_count": 14,
   "metadata": {},
   "outputs": [
    {
     "data": {
      "text/plain": [
       "\n",
       "[[1. 1. 1.]\n",
       " [1. 1. 1.]]\n",
       "<NDArray 2x3 @cpu(0)>"
      ]
     },
     "execution_count": 14,
     "metadata": {},
     "output_type": "execute_result"
    }
   ],
   "source": [
    "nd.array(a)"
   ]
  },
  {
   "cell_type": "markdown",
   "metadata": {},
   "source": [
    "## Create a Neural Network\n",
    "<a name=\"neuralnetwork\"></a>\n",
    "\n",
    "In this section, you will see how to create neural networks using Gluon.\n",
    "\n",
    "<div style=\"text-align: right\"><a href=\"#toc\">Back to top</a></div>"
   ]
  },
  {
   "cell_type": "code",
   "execution_count": 15,
   "metadata": {},
   "outputs": [],
   "source": [
    "%matplotlib inline"
   ]
  },
  {
   "cell_type": "markdown",
   "metadata": {},
   "source": [
    "### Create Your First Neural Network Layer\n",
    "\n",
    "Start by creating a dense layer with 2 output units and a ReLu activation function. The `None` value seen in the output is because no data has been passed in at this time."
   ]
  },
  {
   "cell_type": "code",
   "execution_count": 16,
   "metadata": {},
   "outputs": [
    {
     "data": {
      "text/plain": [
       "Dense(None -> 2, Activation(relu))"
      ]
     },
     "execution_count": 16,
     "metadata": {},
     "output_type": "execute_result"
    }
   ],
   "source": [
    "layer = nn.Dense(2, activation=\"relu\")\n",
    "layer"
   ]
  },
  {
   "cell_type": "markdown",
   "metadata": {},
   "source": [
    "Review the associated parameters of the dense layer. You can see it has weight and bias attributes"
   ]
  },
  {
   "cell_type": "code",
   "execution_count": 17,
   "metadata": {},
   "outputs": [
    {
     "data": {
      "text/plain": [
       "dense0_ (\n",
       "  Parameter dense0_weight (shape=(2, 0), dtype=float32)\n",
       "  Parameter dense0_bias (shape=(2,), dtype=float32)\n",
       ")"
      ]
     },
     "execution_count": 17,
     "metadata": {},
     "output_type": "execute_result"
    }
   ],
   "source": [
    "layer.params"
   ]
  },
  {
   "cell_type": "markdown",
   "metadata": {},
   "source": [
    "### Initialization\n",
    "\n",
    "Next, initialize its weights with the Xavier initialization method. This initializer is designed to keep the scale of gradients roughly the same in all layers. See the [MXNet Initializer documentation](https://mxnet.incubator.apache.org/api/python/optimization/optimization.html#mxnet.initializer.Xavier) for more details on this and other initializers.\n",
    "\n",
    "\n",
    "\n",
    "**Note:** You can safely ignore any warnings generated by the below code cell."
   ]
  },
  {
   "cell_type": "code",
   "execution_count": 18,
   "metadata": {},
   "outputs": [],
   "source": [
    "layer.initialize(mx.init.Xavier())"
   ]
  },
  {
   "cell_type": "markdown",
   "metadata": {},
   "source": [
    "### Forward with Input `x`\n",
    "\n",
    "Next, do a forward pass with random data. Create a $(3,4)$ shape random input `x` and feed it into the layer to compute the output."
   ]
  },
  {
   "cell_type": "code",
   "execution_count": 19,
   "metadata": {},
   "outputs": [
    {
     "data": {
      "text/plain": [
       "\n",
       "[[ 0.08976638  0.6945034  -0.15269041  0.24712741]\n",
       " [ 0.29178822 -0.23123658 -0.1248256  -0.40493077]\n",
       " [ 0.783546   -0.88657403  0.9273255  -0.45468742]]\n",
       "<NDArray 3x4 @cpu(0)>"
      ]
     },
     "execution_count": 19,
     "metadata": {},
     "output_type": "execute_result"
    }
   ],
   "source": [
    "N = 3\n",
    "x = nd.random.uniform(low=-1, high=1, shape=(N, 4))\n",
    "x"
   ]
  },
  {
   "cell_type": "code",
   "execution_count": 20,
   "metadata": {},
   "outputs": [
    {
     "data": {
      "text/plain": [
       "\n",
       "[[ 0.01325431 -0.        ]\n",
       " [-0.          0.09596446]\n",
       " [ 0.1141149   0.3044821 ]]\n",
       "<NDArray 3x2 @cpu(0)>"
      ]
     },
     "execution_count": 20,
     "metadata": {},
     "output_type": "execute_result"
    }
   ],
   "source": [
    "output = layer(x)\n",
    "output"
   ]
  },
  {
   "cell_type": "markdown",
   "metadata": {},
   "source": [
    "### Inferred Shape\n",
    "\n",
    "As you can see, the layer's input limit of 2 produced a $(3,2)$ shape output from your $(3,4)$ input. Note that you didn't specify the input size of `layer` before (though you can specify it with the argument `in_units=4`). The system will automatically infer it during the first time data is fed in, creating and initializing the weights. You can access the weight after the first forward pass."
   ]
  },
  {
   "cell_type": "code",
   "execution_count": 21,
   "metadata": {},
   "outputs": [
    {
     "data": {
      "text/plain": [
       "\n",
       "[[-0.23311698 -0.04466975  0.5834501   0.62433743]\n",
       " [ 0.0577898  -0.04004568  0.13608909 -0.21443039]]\n",
       "<NDArray 2x4 @cpu(0)>"
      ]
     },
     "execution_count": 21,
     "metadata": {},
     "output_type": "execute_result"
    }
   ],
   "source": [
    "layer.weight.data()"
   ]
  },
  {
   "cell_type": "markdown",
   "metadata": {},
   "source": [
    "### Chain Layers into a Neural Network\n",
    "\n",
    "Consider a simple case that a neural network is a chain of layers. During the forward pass, you run layers sequentially one-by-one. The below cell implements a famous neural network called [LeNet](http://yann.lecun.com/exdb/lenet/) through `nn.Sequential`."
   ]
  },
  {
   "cell_type": "code",
   "execution_count": 22,
   "metadata": {},
   "outputs": [
    {
     "data": {
      "text/plain": [
       "Sequential(\n",
       "  (0): Conv2D(None -> 6, kernel_size=(5, 5), stride=(1, 1))\n",
       "  (1): MaxPool2D(size=(2, 2), stride=(2, 2), padding=(0, 0), ceil_mode=False)\n",
       "  (2): Conv2D(None -> 16, kernel_size=(3, 3), stride=(1, 1))\n",
       "  (3): MaxPool2D(size=(2, 2), stride=(2, 2), padding=(0, 0), ceil_mode=False)\n",
       "  (4): Flatten\n",
       "  (5): Dense(None -> 120, Activation(relu))\n",
       "  (6): Dense(None -> 84, Activation(relu))\n",
       "  (7): Dense(None -> 10, linear)\n",
       ")"
      ]
     },
     "execution_count": 22,
     "metadata": {},
     "output_type": "execute_result"
    }
   ],
   "source": [
    "net = nn.Sequential()\n",
    "with net.name_scope():\n",
    "    # Add a sequence of layers.\n",
    "    net.add(\n",
    "        nn.Conv2D(channels=6, kernel_size=(5, 5), activation='relu'),\n",
    "\n",
    "        nn.MaxPool2D(pool_size=2, strides=2),\n",
    "        nn.Conv2D(channels=16, kernel_size=3, activation='relu'),\n",
    "        nn.MaxPool2D(pool_size=2, strides=2),\n",
    "        \n",
    "        nn.Flatten(),\n",
    "        nn.Dense(120, activation=\"relu\"),\n",
    "        nn.Dense(84, activation=\"relu\"),\n",
    "        nn.Dense(10)\n",
    "    )\n",
    "net"
   ]
  },
  {
   "cell_type": "markdown",
   "metadata": {},
   "source": [
    "Now visualize the neural network. The below output illustrates the network architecture from the bottom up."
   ]
  },
  {
   "cell_type": "code",
   "execution_count": 23,
   "metadata": {},
   "outputs": [
    {
     "data": {
      "image/svg+xml": [
       "<?xml version=\"1.0\" encoding=\"UTF-8\" standalone=\"no\"?>\n",
       "<!DOCTYPE svg PUBLIC \"-//W3C//DTD SVG 1.1//EN\"\n",
       " \"http://www.w3.org/Graphics/SVG/1.1/DTD/svg11.dtd\">\n",
       "<!-- Generated by graphviz version 2.40.1 (20161225.0304)\n",
       " -->\n",
       "<!-- Title: plot Pages: 1 -->\n",
       "<svg width=\"198pt\" height=\"1374pt\"\n",
       " viewBox=\"0.00 0.00 197.54 1374.00\" xmlns=\"http://www.w3.org/2000/svg\" xmlns:xlink=\"http://www.w3.org/1999/xlink\">\n",
       "<g id=\"graph0\" class=\"graph\" transform=\"scale(1 1) rotate(0) translate(4 1370)\">\n",
       "<title>plot</title>\n",
       "<polygon fill=\"#ffffff\" stroke=\"transparent\" points=\"-4,4 -4,-1370 193.5399,-1370 193.5399,4 -4,4\"/>\n",
       "<!-- data -->\n",
       "<g id=\"node1\" class=\"node\">\n",
       "<title>data</title>\n",
       "<ellipse fill=\"#8dd3c7\" stroke=\"#000000\" cx=\"94.77\" cy=\"-29\" rx=\"47\" ry=\"29\"/>\n",
       "<text text-anchor=\"middle\" x=\"94.77\" y=\"-25.3\" font-family=\"Times,serif\" font-size=\"14.00\" fill=\"#000000\">data</text>\n",
       "</g>\n",
       "<!-- sequential0_conv0_fwd -->\n",
       "<g id=\"node2\" class=\"node\">\n",
       "<title>sequential0_conv0_fwd</title>\n",
       "<ellipse fill=\"#fb8072\" stroke=\"#000000\" cx=\"94.77\" cy=\"-138\" rx=\"55.6878\" ry=\"29\"/>\n",
       "<text text-anchor=\"middle\" x=\"94.77\" y=\"-141.8\" font-family=\"Times,serif\" font-size=\"14.00\" fill=\"#000000\">Convolution</text>\n",
       "<text text-anchor=\"middle\" x=\"94.77\" y=\"-126.8\" font-family=\"Times,serif\" font-size=\"14.00\" fill=\"#000000\">5x5/1x1, 6</text>\n",
       "</g>\n",
       "<!-- sequential0_conv0_fwd&#45;&gt;data -->\n",
       "<g id=\"edge1\" class=\"edge\">\n",
       "<title>sequential0_conv0_fwd&#45;&gt;data</title>\n",
       "<path fill=\"none\" stroke=\"#000000\" d=\"M94.77,-98.4838C94.77,-85.2054 94.77,-70.6405 94.77,-58.2906\"/>\n",
       "<polygon fill=\"#000000\" stroke=\"#000000\" points=\"94.77,-108.79 90.2701,-98.79 94.77,-103.79 94.7701,-98.79 94.7701,-98.79 94.7701,-98.79 94.77,-103.79 99.2701,-98.79 94.77,-108.79 94.77,-108.79\"/>\n",
       "<text text-anchor=\"middle\" x=\"118.77\" y=\"-79.8\" font-family=\"Times,serif\" font-size=\"14.00\" fill=\"#000000\">1x28x28</text>\n",
       "</g>\n",
       "<!-- sequential0_conv0_relu_fwd -->\n",
       "<g id=\"node3\" class=\"node\">\n",
       "<title>sequential0_conv0_relu_fwd</title>\n",
       "<ellipse fill=\"#ffffb3\" stroke=\"#000000\" cx=\"94.77\" cy=\"-247\" rx=\"48.9511\" ry=\"29\"/>\n",
       "<text text-anchor=\"middle\" x=\"94.77\" y=\"-250.8\" font-family=\"Times,serif\" font-size=\"14.00\" fill=\"#000000\">Activation</text>\n",
       "<text text-anchor=\"middle\" x=\"94.77\" y=\"-235.8\" font-family=\"Times,serif\" font-size=\"14.00\" fill=\"#000000\">relu</text>\n",
       "</g>\n",
       "<!-- sequential0_conv0_relu_fwd&#45;&gt;sequential0_conv0_fwd -->\n",
       "<g id=\"edge2\" class=\"edge\">\n",
       "<title>sequential0_conv0_relu_fwd&#45;&gt;sequential0_conv0_fwd</title>\n",
       "<path fill=\"none\" stroke=\"#000000\" d=\"M94.77,-207.4838C94.77,-194.2054 94.77,-179.6405 94.77,-167.2906\"/>\n",
       "<polygon fill=\"#000000\" stroke=\"#000000\" points=\"94.77,-217.79 90.2701,-207.79 94.77,-212.79 94.7701,-207.79 94.7701,-207.79 94.7701,-207.79 94.77,-212.79 99.2701,-207.79 94.77,-217.79 94.77,-217.79\"/>\n",
       "<text text-anchor=\"middle\" x=\"118.77\" y=\"-188.8\" font-family=\"Times,serif\" font-size=\"14.00\" fill=\"#000000\">6x24x24</text>\n",
       "</g>\n",
       "<!-- sequential0_pool0_fwd -->\n",
       "<g id=\"node4\" class=\"node\">\n",
       "<title>sequential0_pool0_fwd</title>\n",
       "<ellipse fill=\"#80b1d3\" stroke=\"#000000\" cx=\"94.77\" cy=\"-356\" rx=\"60.7772\" ry=\"29\"/>\n",
       "<text text-anchor=\"middle\" x=\"94.77\" y=\"-359.8\" font-family=\"Times,serif\" font-size=\"14.00\" fill=\"#000000\">Pooling</text>\n",
       "<text text-anchor=\"middle\" x=\"94.77\" y=\"-344.8\" font-family=\"Times,serif\" font-size=\"14.00\" fill=\"#000000\">max, 2x2/2x2</text>\n",
       "</g>\n",
       "<!-- sequential0_pool0_fwd&#45;&gt;sequential0_conv0_relu_fwd -->\n",
       "<g id=\"edge3\" class=\"edge\">\n",
       "<title>sequential0_pool0_fwd&#45;&gt;sequential0_conv0_relu_fwd</title>\n",
       "<path fill=\"none\" stroke=\"#000000\" d=\"M94.77,-316.4838C94.77,-303.2054 94.77,-288.6405 94.77,-276.2906\"/>\n",
       "<polygon fill=\"#000000\" stroke=\"#000000\" points=\"94.77,-326.79 90.2701,-316.79 94.77,-321.79 94.7701,-316.79 94.7701,-316.79 94.7701,-316.79 94.77,-321.79 99.2701,-316.79 94.77,-326.79 94.77,-326.79\"/>\n",
       "<text text-anchor=\"middle\" x=\"118.77\" y=\"-297.8\" font-family=\"Times,serif\" font-size=\"14.00\" fill=\"#000000\">6x24x24</text>\n",
       "</g>\n",
       "<!-- sequential0_conv1_fwd -->\n",
       "<g id=\"node5\" class=\"node\">\n",
       "<title>sequential0_conv1_fwd</title>\n",
       "<ellipse fill=\"#fb8072\" stroke=\"#000000\" cx=\"94.77\" cy=\"-465\" rx=\"55.6878\" ry=\"29\"/>\n",
       "<text text-anchor=\"middle\" x=\"94.77\" y=\"-468.8\" font-family=\"Times,serif\" font-size=\"14.00\" fill=\"#000000\">Convolution</text>\n",
       "<text text-anchor=\"middle\" x=\"94.77\" y=\"-453.8\" font-family=\"Times,serif\" font-size=\"14.00\" fill=\"#000000\">3x3/1x1, 16</text>\n",
       "</g>\n",
       "<!-- sequential0_conv1_fwd&#45;&gt;sequential0_pool0_fwd -->\n",
       "<g id=\"edge4\" class=\"edge\">\n",
       "<title>sequential0_conv1_fwd&#45;&gt;sequential0_pool0_fwd</title>\n",
       "<path fill=\"none\" stroke=\"#000000\" d=\"M94.77,-425.4838C94.77,-412.2054 94.77,-397.6405 94.77,-385.2906\"/>\n",
       "<polygon fill=\"#000000\" stroke=\"#000000\" points=\"94.77,-435.79 90.2701,-425.79 94.77,-430.79 94.7701,-425.79 94.7701,-425.79 94.7701,-425.79 94.77,-430.79 99.2701,-425.79 94.77,-435.79 94.77,-435.79\"/>\n",
       "<text text-anchor=\"middle\" x=\"118.77\" y=\"-406.8\" font-family=\"Times,serif\" font-size=\"14.00\" fill=\"#000000\">6x12x12</text>\n",
       "</g>\n",
       "<!-- sequential0_conv1_relu_fwd -->\n",
       "<g id=\"node6\" class=\"node\">\n",
       "<title>sequential0_conv1_relu_fwd</title>\n",
       "<ellipse fill=\"#ffffb3\" stroke=\"#000000\" cx=\"94.77\" cy=\"-574\" rx=\"48.9511\" ry=\"29\"/>\n",
       "<text text-anchor=\"middle\" x=\"94.77\" y=\"-577.8\" font-family=\"Times,serif\" font-size=\"14.00\" fill=\"#000000\">Activation</text>\n",
       "<text text-anchor=\"middle\" x=\"94.77\" y=\"-562.8\" font-family=\"Times,serif\" font-size=\"14.00\" fill=\"#000000\">relu</text>\n",
       "</g>\n",
       "<!-- sequential0_conv1_relu_fwd&#45;&gt;sequential0_conv1_fwd -->\n",
       "<g id=\"edge5\" class=\"edge\">\n",
       "<title>sequential0_conv1_relu_fwd&#45;&gt;sequential0_conv1_fwd</title>\n",
       "<path fill=\"none\" stroke=\"#000000\" d=\"M94.77,-534.4838C94.77,-521.2054 94.77,-506.6405 94.77,-494.2906\"/>\n",
       "<polygon fill=\"#000000\" stroke=\"#000000\" points=\"94.77,-544.79 90.2701,-534.79 94.77,-539.79 94.7701,-534.79 94.7701,-534.79 94.7701,-534.79 94.77,-539.79 99.2701,-534.79 94.77,-544.79 94.77,-544.79\"/>\n",
       "<text text-anchor=\"middle\" x=\"122.27\" y=\"-515.8\" font-family=\"Times,serif\" font-size=\"14.00\" fill=\"#000000\">16x10x10</text>\n",
       "</g>\n",
       "<!-- sequential0_pool1_fwd -->\n",
       "<g id=\"node7\" class=\"node\">\n",
       "<title>sequential0_pool1_fwd</title>\n",
       "<ellipse fill=\"#80b1d3\" stroke=\"#000000\" cx=\"94.77\" cy=\"-683\" rx=\"60.7772\" ry=\"29\"/>\n",
       "<text text-anchor=\"middle\" x=\"94.77\" y=\"-686.8\" font-family=\"Times,serif\" font-size=\"14.00\" fill=\"#000000\">Pooling</text>\n",
       "<text text-anchor=\"middle\" x=\"94.77\" y=\"-671.8\" font-family=\"Times,serif\" font-size=\"14.00\" fill=\"#000000\">max, 2x2/2x2</text>\n",
       "</g>\n",
       "<!-- sequential0_pool1_fwd&#45;&gt;sequential0_conv1_relu_fwd -->\n",
       "<g id=\"edge6\" class=\"edge\">\n",
       "<title>sequential0_pool1_fwd&#45;&gt;sequential0_conv1_relu_fwd</title>\n",
       "<path fill=\"none\" stroke=\"#000000\" d=\"M94.77,-643.4838C94.77,-630.2054 94.77,-615.6405 94.77,-603.2906\"/>\n",
       "<polygon fill=\"#000000\" stroke=\"#000000\" points=\"94.77,-653.79 90.2701,-643.79 94.77,-648.79 94.7701,-643.79 94.7701,-643.79 94.7701,-643.79 94.77,-648.79 99.2701,-643.79 94.77,-653.79 94.77,-653.79\"/>\n",
       "<text text-anchor=\"middle\" x=\"122.27\" y=\"-624.8\" font-family=\"Times,serif\" font-size=\"14.00\" fill=\"#000000\">16x10x10</text>\n",
       "</g>\n",
       "<!-- sequential0_flatten0_flatten0 -->\n",
       "<g id=\"node8\" class=\"node\">\n",
       "<title>sequential0_flatten0_flatten0</title>\n",
       "<ellipse fill=\"#fdb462\" stroke=\"#000000\" cx=\"94.77\" cy=\"-792\" rx=\"94.5405\" ry=\"29\"/>\n",
       "<text text-anchor=\"middle\" x=\"94.77\" y=\"-788.3\" font-family=\"Times,serif\" font-size=\"14.00\" fill=\"#000000\">sequential0_flatten0_flatten0</text>\n",
       "</g>\n",
       "<!-- sequential0_flatten0_flatten0&#45;&gt;sequential0_pool1_fwd -->\n",
       "<g id=\"edge7\" class=\"edge\">\n",
       "<title>sequential0_flatten0_flatten0&#45;&gt;sequential0_pool1_fwd</title>\n",
       "<path fill=\"none\" stroke=\"#000000\" d=\"M94.77,-752.4838C94.77,-739.2054 94.77,-724.6405 94.77,-712.2906\"/>\n",
       "<polygon fill=\"#000000\" stroke=\"#000000\" points=\"94.77,-762.79 90.2701,-752.79 94.77,-757.79 94.7701,-752.79 94.7701,-752.79 94.7701,-752.79 94.77,-757.79 99.2701,-752.79 94.77,-762.79 94.77,-762.79\"/>\n",
       "<text text-anchor=\"middle\" x=\"115.27\" y=\"-733.8\" font-family=\"Times,serif\" font-size=\"14.00\" fill=\"#000000\">16x5x5</text>\n",
       "</g>\n",
       "<!-- sequential0_dense0_fwd -->\n",
       "<g id=\"node9\" class=\"node\">\n",
       "<title>sequential0_dense0_fwd</title>\n",
       "<ellipse fill=\"#fb8072\" stroke=\"#000000\" cx=\"94.77\" cy=\"-901\" rx=\"68.3377\" ry=\"29\"/>\n",
       "<text text-anchor=\"middle\" x=\"94.77\" y=\"-904.8\" font-family=\"Times,serif\" font-size=\"14.00\" fill=\"#000000\">FullyConnected</text>\n",
       "<text text-anchor=\"middle\" x=\"94.77\" y=\"-889.8\" font-family=\"Times,serif\" font-size=\"14.00\" fill=\"#000000\">120</text>\n",
       "</g>\n",
       "<!-- sequential0_dense0_fwd&#45;&gt;sequential0_flatten0_flatten0 -->\n",
       "<g id=\"edge8\" class=\"edge\">\n",
       "<title>sequential0_dense0_fwd&#45;&gt;sequential0_flatten0_flatten0</title>\n",
       "<path fill=\"none\" stroke=\"#000000\" d=\"M94.77,-861.4838C94.77,-848.2054 94.77,-833.6405 94.77,-821.2906\"/>\n",
       "<polygon fill=\"#000000\" stroke=\"#000000\" points=\"94.77,-871.79 90.2701,-861.79 94.77,-866.79 94.7701,-861.79 94.7701,-861.79 94.7701,-861.79 94.77,-866.79 99.2701,-861.79 94.77,-871.79 94.77,-871.79\"/>\n",
       "<text text-anchor=\"middle\" x=\"105.27\" y=\"-842.8\" font-family=\"Times,serif\" font-size=\"14.00\" fill=\"#000000\">400</text>\n",
       "</g>\n",
       "<!-- sequential0_dense0_relu_fwd -->\n",
       "<g id=\"node10\" class=\"node\">\n",
       "<title>sequential0_dense0_relu_fwd</title>\n",
       "<ellipse fill=\"#ffffb3\" stroke=\"#000000\" cx=\"94.77\" cy=\"-1010\" rx=\"48.9511\" ry=\"29\"/>\n",
       "<text text-anchor=\"middle\" x=\"94.77\" y=\"-1013.8\" font-family=\"Times,serif\" font-size=\"14.00\" fill=\"#000000\">Activation</text>\n",
       "<text text-anchor=\"middle\" x=\"94.77\" y=\"-998.8\" font-family=\"Times,serif\" font-size=\"14.00\" fill=\"#000000\">relu</text>\n",
       "</g>\n",
       "<!-- sequential0_dense0_relu_fwd&#45;&gt;sequential0_dense0_fwd -->\n",
       "<g id=\"edge9\" class=\"edge\">\n",
       "<title>sequential0_dense0_relu_fwd&#45;&gt;sequential0_dense0_fwd</title>\n",
       "<path fill=\"none\" stroke=\"#000000\" d=\"M94.77,-970.4838C94.77,-957.2054 94.77,-942.6405 94.77,-930.2906\"/>\n",
       "<polygon fill=\"#000000\" stroke=\"#000000\" points=\"94.77,-980.79 90.2701,-970.79 94.77,-975.79 94.7701,-970.79 94.7701,-970.79 94.7701,-970.79 94.77,-975.79 99.2701,-970.79 94.77,-980.79 94.77,-980.79\"/>\n",
       "<text text-anchor=\"middle\" x=\"105.27\" y=\"-951.8\" font-family=\"Times,serif\" font-size=\"14.00\" fill=\"#000000\">120</text>\n",
       "</g>\n",
       "<!-- sequential0_dense1_fwd -->\n",
       "<g id=\"node11\" class=\"node\">\n",
       "<title>sequential0_dense1_fwd</title>\n",
       "<ellipse fill=\"#fb8072\" stroke=\"#000000\" cx=\"94.77\" cy=\"-1119\" rx=\"68.3377\" ry=\"29\"/>\n",
       "<text text-anchor=\"middle\" x=\"94.77\" y=\"-1122.8\" font-family=\"Times,serif\" font-size=\"14.00\" fill=\"#000000\">FullyConnected</text>\n",
       "<text text-anchor=\"middle\" x=\"94.77\" y=\"-1107.8\" font-family=\"Times,serif\" font-size=\"14.00\" fill=\"#000000\">84</text>\n",
       "</g>\n",
       "<!-- sequential0_dense1_fwd&#45;&gt;sequential0_dense0_relu_fwd -->\n",
       "<g id=\"edge10\" class=\"edge\">\n",
       "<title>sequential0_dense1_fwd&#45;&gt;sequential0_dense0_relu_fwd</title>\n",
       "<path fill=\"none\" stroke=\"#000000\" d=\"M94.77,-1079.4838C94.77,-1066.2054 94.77,-1051.6405 94.77,-1039.2906\"/>\n",
       "<polygon fill=\"#000000\" stroke=\"#000000\" points=\"94.77,-1089.79 90.2701,-1079.79 94.77,-1084.79 94.7701,-1079.79 94.7701,-1079.79 94.7701,-1079.79 94.77,-1084.79 99.2701,-1079.79 94.77,-1089.79 94.77,-1089.79\"/>\n",
       "<text text-anchor=\"middle\" x=\"105.27\" y=\"-1060.8\" font-family=\"Times,serif\" font-size=\"14.00\" fill=\"#000000\">120</text>\n",
       "</g>\n",
       "<!-- sequential0_dense1_relu_fwd -->\n",
       "<g id=\"node12\" class=\"node\">\n",
       "<title>sequential0_dense1_relu_fwd</title>\n",
       "<ellipse fill=\"#ffffb3\" stroke=\"#000000\" cx=\"94.77\" cy=\"-1228\" rx=\"48.9511\" ry=\"29\"/>\n",
       "<text text-anchor=\"middle\" x=\"94.77\" y=\"-1231.8\" font-family=\"Times,serif\" font-size=\"14.00\" fill=\"#000000\">Activation</text>\n",
       "<text text-anchor=\"middle\" x=\"94.77\" y=\"-1216.8\" font-family=\"Times,serif\" font-size=\"14.00\" fill=\"#000000\">relu</text>\n",
       "</g>\n",
       "<!-- sequential0_dense1_relu_fwd&#45;&gt;sequential0_dense1_fwd -->\n",
       "<g id=\"edge11\" class=\"edge\">\n",
       "<title>sequential0_dense1_relu_fwd&#45;&gt;sequential0_dense1_fwd</title>\n",
       "<path fill=\"none\" stroke=\"#000000\" d=\"M94.77,-1188.4838C94.77,-1175.2054 94.77,-1160.6405 94.77,-1148.2906\"/>\n",
       "<polygon fill=\"#000000\" stroke=\"#000000\" points=\"94.77,-1198.79 90.2701,-1188.79 94.77,-1193.79 94.7701,-1188.79 94.7701,-1188.79 94.7701,-1188.79 94.77,-1193.79 99.2701,-1188.79 94.77,-1198.79 94.77,-1198.79\"/>\n",
       "<text text-anchor=\"middle\" x=\"101.77\" y=\"-1169.8\" font-family=\"Times,serif\" font-size=\"14.00\" fill=\"#000000\">84</text>\n",
       "</g>\n",
       "<!-- sequential0_dense2_fwd -->\n",
       "<g id=\"node13\" class=\"node\">\n",
       "<title>sequential0_dense2_fwd</title>\n",
       "<ellipse fill=\"#fb8072\" stroke=\"#000000\" cx=\"94.77\" cy=\"-1337\" rx=\"68.3377\" ry=\"29\"/>\n",
       "<text text-anchor=\"middle\" x=\"94.77\" y=\"-1340.8\" font-family=\"Times,serif\" font-size=\"14.00\" fill=\"#000000\">FullyConnected</text>\n",
       "<text text-anchor=\"middle\" x=\"94.77\" y=\"-1325.8\" font-family=\"Times,serif\" font-size=\"14.00\" fill=\"#000000\">10</text>\n",
       "</g>\n",
       "<!-- sequential0_dense2_fwd&#45;&gt;sequential0_dense1_relu_fwd -->\n",
       "<g id=\"edge12\" class=\"edge\">\n",
       "<title>sequential0_dense2_fwd&#45;&gt;sequential0_dense1_relu_fwd</title>\n",
       "<path fill=\"none\" stroke=\"#000000\" d=\"M94.77,-1297.4838C94.77,-1284.2054 94.77,-1269.6405 94.77,-1257.2906\"/>\n",
       "<polygon fill=\"#000000\" stroke=\"#000000\" points=\"94.77,-1307.79 90.2701,-1297.79 94.77,-1302.79 94.7701,-1297.79 94.7701,-1297.79 94.7701,-1297.79 94.77,-1302.79 99.2701,-1297.79 94.77,-1307.79 94.77,-1307.79\"/>\n",
       "<text text-anchor=\"middle\" x=\"101.77\" y=\"-1278.8\" font-family=\"Times,serif\" font-size=\"14.00\" fill=\"#000000\">84</text>\n",
       "</g>\n",
       "</g>\n",
       "</svg>\n"
      ],
      "text/plain": [
       "<graphviz.dot.Digraph at 0x7fcbbce350b8>"
      ]
     },
     "execution_count": 23,
     "metadata": {},
     "output_type": "execute_result"
    }
   ],
   "source": [
    "mx.viz.plot_network(net(mx.sym.var('data')), \n",
    "                    shape={\"data\":(1, 1, 28, 28)},\n",
    "                    node_attrs={\"shape\":\"oval\",\"fixedsize\":\"False\"},\n",
    "                   )"
   ]
  },
  {
   "cell_type": "markdown",
   "metadata": {},
   "source": [
    "### Run Network\n",
    "\n",
    "The usage of `nn.Sequential` is similar to `nn.Dense` (both of them are subclasses of `nn.Block`). The following code shows how to initialize the weights and then run the forward pass. This example uses the default initializer. The input shape is 4 x 1 x 28 x 28 which represents a batch of 4 black and white images (i.e. 1 colour channel) of 28x28 pixels. Passing this through the neural network creates a 4 x 10 shaped output, which represents each of the 4 batches coupled with one of the 10 fashion categories."
   ]
  },
  {
   "cell_type": "code",
   "execution_count": 24,
   "metadata": {},
   "outputs": [
    {
     "data": {
      "text/plain": [
       "(4, 10)"
      ]
     },
     "execution_count": 24,
     "metadata": {},
     "output_type": "execute_result"
    }
   ],
   "source": [
    "net.initialize()\n",
    "\n",
    "# Input shape is (batch_size, color_channels, height, width)\n",
    "x = nd.random.uniform(shape=(4, 1, 28, 28))\n",
    "y = net(x)\n",
    "y.shape"
   ]
  },
  {
   "cell_type": "markdown",
   "metadata": {},
   "source": [
    "### Specific Layer\n",
    "\n",
    "You can use `[]` to index a particular layer and access its attributes. For example, first you can view the structure of the neural network via `net`."
   ]
  },
  {
   "cell_type": "code",
   "execution_count": 25,
   "metadata": {},
   "outputs": [
    {
     "data": {
      "text/plain": [
       "Sequential(\n",
       "  (0): Conv2D(1 -> 6, kernel_size=(5, 5), stride=(1, 1))\n",
       "  (1): MaxPool2D(size=(2, 2), stride=(2, 2), padding=(0, 0), ceil_mode=False)\n",
       "  (2): Conv2D(6 -> 16, kernel_size=(3, 3), stride=(1, 1))\n",
       "  (3): MaxPool2D(size=(2, 2), stride=(2, 2), padding=(0, 0), ceil_mode=False)\n",
       "  (4): Flatten\n",
       "  (5): Dense(400 -> 120, Activation(relu))\n",
       "  (6): Dense(120 -> 84, Activation(relu))\n",
       "  (7): Dense(84 -> 10, linear)\n",
       ")"
      ]
     },
     "execution_count": 25,
     "metadata": {},
     "output_type": "execute_result"
    }
   ],
   "source": [
    "net"
   ]
  },
  {
   "cell_type": "markdown",
   "metadata": {},
   "source": [
    "Below, you access the 1st layer's weight and 6th layer's bias."
   ]
  },
  {
   "cell_type": "code",
   "execution_count": 26,
   "metadata": {},
   "outputs": [
    {
     "data": {
      "text/plain": [
       "'First Conv2D layer weight shape: (6, 1, 5, 5), bias shape: (120,)'"
      ]
     },
     "execution_count": 26,
     "metadata": {},
     "output_type": "execute_result"
    }
   ],
   "source": [
    "\"First Conv2D layer weight shape: {}, bias shape: {}\".format(net[0].weight.data().shape, net[5].bias.data().shape)"
   ]
  },
  {
   "cell_type": "markdown",
   "metadata": {},
   "source": [
    "### Create a Neural Network Flexibly\n",
    "\n",
    "In `nn.Sequential`, MXNet will automatically construct the forward function that sequentially executes added layers. Another way to construct a network is with a flexible forward function. This is a custom construct using the `Block` class. \n",
    "\n",
    "Create a subclass of `nn.Block` and implement two methods:\n",
    "\n",
    "- `__init__`: Create the layers.\n",
    "- `forward`: Define the forward function."
   ]
  },
  {
   "cell_type": "code",
   "execution_count": 27,
   "metadata": {},
   "outputs": [
    {
     "data": {
      "text/plain": [
       "MixMLP(\n",
       "  (features): Sequential(\n",
       "    (0): Dense(None -> 3, Activation(relu))\n",
       "    (1): Dense(None -> 4, Activation(relu))\n",
       "  )\n",
       "  (output): Dense(None -> 5, linear)\n",
       ")"
      ]
     },
     "execution_count": 27,
     "metadata": {},
     "output_type": "execute_result"
    }
   ],
   "source": [
    "class MixMLP(nn.Block):\n",
    "    def __init__(self, **kwargs):\n",
    "        # Run `nn.Block`'s init method\n",
    "        super(MixMLP, self).__init__(**kwargs)\n",
    "        with self.name_scope():\n",
    "            self.features = nn.Sequential()\n",
    "            # Already within a name scope, no need to create\n",
    "            # another scope.\n",
    "            self.features.add(\n",
    "                nn.Dense(3, activation='relu'),\n",
    "                nn.Dense(4, activation='relu')\n",
    "            )\n",
    "            self.output = nn.Dense(5)\n",
    "    def forward(self, x):\n",
    "        y = self.features(x)\n",
    "        print(\"Features\", y)\n",
    "        return self.output(y)\n",
    "\n",
    "net2 = MixMLP()\n",
    "net2"
   ]
  },
  {
   "cell_type": "markdown",
   "metadata": {},
   "source": [
    "### Print Statements\n",
    "\n",
    "In the sequential chaining approach, you can only add instances with `nn.Block` as the base class and then run them in a forward pass. In this example, you use `print` to get the intermediate results and `nd.relu` to apply relu activation. This approach provides a more flexible way to define the forward function.\n",
    "\n",
    "Note that the usage of `net` is similar to before."
   ]
  },
  {
   "cell_type": "code",
   "execution_count": 28,
   "metadata": {},
   "outputs": [],
   "source": [
    "net2.initialize()"
   ]
  },
  {
   "cell_type": "code",
   "execution_count": 29,
   "metadata": {},
   "outputs": [
    {
     "name": "stdout",
     "output_type": "stream",
     "text": [
      "Features \n",
      "[[0. 0. 0. 0.]\n",
      " [0. 0. 0. 0.]]\n",
      "<NDArray 2x4 @cpu(0)>\n"
     ]
    }
   ],
   "source": [
    "x = nd.random.uniform(shape=(2,2))\n",
    "out = net2(x)"
   ]
  },
  {
   "cell_type": "markdown",
   "metadata": {},
   "source": [
    "### Weight Access\n",
    "\n",
    "Lastly, you can access a particular layer's weights."
   ]
  },
  {
   "cell_type": "code",
   "execution_count": 30,
   "metadata": {},
   "outputs": [
    {
     "data": {
      "text/plain": [
       "\n",
       "[[-0.02634858  0.05334064  0.02748809]\n",
       " [ 0.06669661 -0.01711474  0.01647211]\n",
       " [-0.04485548  0.00594983 -0.06654498]\n",
       " [ 0.04964591 -0.06058505  0.03413684]]\n",
       "<NDArray 4x3 @cpu(0)>"
      ]
     },
     "execution_count": 30,
     "metadata": {},
     "output_type": "execute_result"
    }
   ],
   "source": [
    "net2.features[1].weight.data()"
   ]
  },
  {
   "cell_type": "markdown",
   "metadata": {},
   "source": [
    "## Automatic Differentiation with `autograd`\n",
    "<a name=\"differentiation\"></a>\n",
    "\n",
    "Models are trained as a function of experience. Usually, getting better means minimizing a loss function. To achieve this goal, you often iteratively compute the gradient of the loss with respect to weights and then update the weights accordingly. While the gradient calculations are straightforward through a chain rule, working it out by hand can be painful for complex models.\n",
    "\n",
    "Before diving deep into the model training, go through how MXNet’s `autograd` package expedites this work by automatically calculating derivatives.\n",
    "\n",
    "<div style=\"text-align: right\"><a href=\"#toc\">Back to top</a></div>"
   ]
  },
  {
   "cell_type": "markdown",
   "metadata": {},
   "source": [
    "### Differentiate $f(x) = 2 x^2$ with Respect to Parameter, $x$\n",
    "\n",
    "As an example, assume you are interested in differentiating a function $f(x) = 2 x^2$ with respect to parameter $x$. Start by assigning an initial value of $x$."
   ]
  },
  {
   "cell_type": "code",
   "execution_count": 31,
   "metadata": {},
   "outputs": [
    {
     "data": {
      "text/plain": [
       "\n",
       "[[1. 2.]\n",
       " [3. 4.]]\n",
       "<NDArray 2x2 @cpu(0)>"
      ]
     },
     "execution_count": 31,
     "metadata": {},
     "output_type": "execute_result"
    }
   ],
   "source": [
    "x = nd.array([[1, 2], [3, 4]])\n",
    "x"
   ]
  },
  {
   "cell_type": "markdown",
   "metadata": {},
   "source": [
    "Once you compute the gradient of $f(x)$ with respect to $x$, you will need a place to store it. In MXNet, you can tell an NDArray that you plan to store a gradient by invoking its `attach_grad()` method."
   ]
  },
  {
   "cell_type": "code",
   "execution_count": 32,
   "metadata": {},
   "outputs": [],
   "source": [
    "x.attach_grad()"
   ]
  },
  {
   "cell_type": "markdown",
   "metadata": {},
   "source": [
    "### $y=f(x)$\n",
    "\n",
    "Now define the function $y=f(x)$. To let MXNet store $y$, so that you can compute gradients later, you need to put the definition inside an `autograd.record()` scope."
   ]
  },
  {
   "cell_type": "code",
   "execution_count": 33,
   "metadata": {},
   "outputs": [
    {
     "data": {
      "text/plain": [
       "(\n",
       " [[1. 2.]\n",
       "  [3. 4.]]\n",
       " <NDArray 2x2 @cpu(0)>, \n",
       " [[ 2.  8.]\n",
       "  [18. 32.]]\n",
       " <NDArray 2x2 @cpu(0)>)"
      ]
     },
     "execution_count": 33,
     "metadata": {},
     "output_type": "execute_result"
    }
   ],
   "source": [
    "def f(x):\n",
    "    return 2 * x**2\n",
    "\n",
    "with autograd.record():\n",
    "    y = f(x)\n",
    "\n",
    "x, y"
   ]
  },
  {
   "cell_type": "markdown",
   "metadata": {},
   "source": [
    "### Backward Propagation of $y$\n",
    "\n",
    "Invoke back propagation (backprop) by calling `y.backward()`. When $y$ has more than one entry, `y.backward()` is equivalent to `y.sum().backward()`."
   ]
  },
  {
   "cell_type": "code",
   "execution_count": 34,
   "metadata": {},
   "outputs": [],
   "source": [
    "y.backward()"
   ]
  },
  {
   "cell_type": "markdown",
   "metadata": {},
   "source": [
    "### $y=2x^2$  and $\\frac{dy}{dx} = 4x$\n",
    "\n",
    "Now check if this is the expected output. Note that $y=2x^2$ and $\\frac{dy}{dx} = 4x$, which should be `[[4, 8],[12, 16]]`. Check the automatically computed results:"
   ]
  },
  {
   "cell_type": "code",
   "execution_count": 35,
   "metadata": {},
   "outputs": [
    {
     "data": {
      "text/plain": [
       "(\n",
       " [[1. 2.]\n",
       "  [3. 4.]]\n",
       " <NDArray 2x2 @cpu(0)>, \n",
       " [[ 4.  8.]\n",
       "  [12. 16.]]\n",
       " <NDArray 2x2 @cpu(0)>)"
      ]
     },
     "execution_count": 35,
     "metadata": {},
     "output_type": "execute_result"
    }
   ],
   "source": [
    "x, x.grad"
   ]
  },
  {
   "cell_type": "markdown",
   "metadata": {},
   "source": [
    "### Using Python Control Flows\n",
    "\n",
    "You may want to write dynamic programs where the execution depends on some real-time values. MXNet will record the execution trace and compute the gradient as well.\n",
    "\n",
    "Consider the following function $f$: it doubles the inputs until its `norm` reaches 1000. Then, it selects one element depending on the sum of its elements.\n",
    "\n",
    "$Y=f(X)$\n",
    "- Take a vector `X` of two random numbers in `[-1, 1]`.\n",
    "- `X` is multiplied by `2` until its norm reaches `1000`.\n",
    "- If `X`'s sum is positive, return the 1st element, otherwise return the 2nd."
   ]
  },
  {
   "cell_type": "code",
   "execution_count": 36,
   "metadata": {},
   "outputs": [],
   "source": [
    "def f(x):\n",
    "    x = x * 2\n",
    "    while x.norm().asscalar() < 1000:\n",
    "        x = x * 2\n",
    "    # If sum positive\n",
    "    # pick 1st\n",
    "    if x.sum().asscalar() >= 0:\n",
    "        y = x[0]\n",
    "    # else pick 2nd\n",
    "    else:\n",
    "        y = x[1]\n",
    "    return y"
   ]
  },
  {
   "cell_type": "markdown",
   "metadata": {},
   "source": [
    "Record the trace and feed in a random value:"
   ]
  },
  {
   "cell_type": "code",
   "execution_count": 37,
   "metadata": {},
   "outputs": [
    {
     "data": {
      "text/plain": [
       "\n",
       "[-0.35996568  0.80884993]\n",
       "<NDArray 2 @cpu(0)>"
      ]
     },
     "execution_count": 37,
     "metadata": {},
     "output_type": "execute_result"
    }
   ],
   "source": [
    "x = nd.random.uniform(-1, 1, shape=2)\n",
    "x"
   ]
  },
  {
   "cell_type": "code",
   "execution_count": 38,
   "metadata": {},
   "outputs": [],
   "source": [
    "x.attach_grad()\n",
    "with autograd.record():\n",
    "    y = f(x)\n",
    "y.backward()"
   ]
  },
  {
   "cell_type": "markdown",
   "metadata": {},
   "source": [
    "### $y=k.x[0]$ or $y=k.x[1]$, hence $\\frac{dy}{dx} =  \\begin{vmatrix} 0 \\\\ k \\end{vmatrix} $ or $ \\begin{vmatrix} k \\\\ 0 \\end{vmatrix}$\n",
    "\n",
    "With $k = 2^n$ where $n$ is the number of times $x$ was multiplied by 2.\n",
    "\n",
    "You know that $y$ is a linear function of $x$, and $y$ is chosen from $x$.\n",
    "\n",
    "Thus, the gradient with respect to $x$ will be either `[y/x[0], 0]` or `[0, y/x[1]]`, depending on which element from $x$ was picked."
   ]
  },
  {
   "cell_type": "code",
   "execution_count": 39,
   "metadata": {},
   "outputs": [
    {
     "data": {
      "text/plain": [
       "\n",
       "[-0.35996568  0.80884993]\n",
       "<NDArray 2 @cpu(0)>"
      ]
     },
     "execution_count": 39,
     "metadata": {},
     "output_type": "execute_result"
    }
   ],
   "source": [
    "x"
   ]
  },
  {
   "cell_type": "code",
   "execution_count": 40,
   "metadata": {},
   "outputs": [
    {
     "data": {
      "text/plain": [
       "\n",
       "[2048.    0.]\n",
       "<NDArray 2 @cpu(0)>"
      ]
     },
     "execution_count": 40,
     "metadata": {},
     "output_type": "execute_result"
    }
   ],
   "source": [
    "x.grad"
   ]
  },
  {
   "cell_type": "markdown",
   "metadata": {},
   "source": [
    "___\n",
    "\n",
    "# BREAK\n",
    "\n",
    "Please pause here for a few minutes so we can come back together as a group to review important aspects of what you just accomplished in the above portion of this lab. The instructor will take approximately 5 minutes to review a few of these important aspects prior to you moving on to the final section of this lab.\n",
    "___\n",
    "\n"
   ]
  },
  {
   "cell_type": "markdown",
   "metadata": {},
   "source": [
    "## Train the Neural Network\n",
    "<a name=\"train\"></a>\n",
    "\n",
    "In this section, you will learn how to train the previously defined network with data.\n",
    "\n",
    "### Training Dataset: FashionMNIST\n",
    "\n",
    "The handwritten digit MNIST dataset is one of the most commonly used datasets in deep learning. However, it is too simple to get a 99% accuracy. Here, you will use a similar but slightly more complicated dataset called FashionMNIST. The goal is no longer to classify numbers, but clothing types instead.\n",
    "\n",
    "The dataset can be automatically downloaded through Gluon's `data.vision.datasets` module. The following code downloads the training dataset and shows the first example.\n",
    "\n",
    "<div style=\"text-align: right\"><a href=\"#toc\">Back to top</a></div>"
   ]
  },
  {
   "cell_type": "code",
   "execution_count": 41,
   "metadata": {},
   "outputs": [
    {
     "name": "stdout",
     "output_type": "stream",
     "text": [
      "Downloading /home/ec2-user/.mxnet/datasets/fashion-mnist/train-images-idx3-ubyte.gz from https://apache-mxnet.s3-accelerate.dualstack.amazonaws.com/gluon/dataset/fashion-mnist/train-images-idx3-ubyte.gz...\n",
      "Downloading /home/ec2-user/.mxnet/datasets/fashion-mnist/train-labels-idx1-ubyte.gz from https://apache-mxnet.s3-accelerate.dualstack.amazonaws.com/gluon/dataset/fashion-mnist/train-labels-idx1-ubyte.gz...\n",
      "X shape: (28, 28, 1) dtype: <class 'numpy.uint8'>\n",
      "Number of images: 60000\n"
     ]
    }
   ],
   "source": [
    "mnist_train = datasets.FashionMNIST(train=True)\n",
    "X, y = mnist_train[0]\n",
    "print('X shape: %s dtype: %s' % (X.shape, X.dtype))\n",
    "print(\"Number of images: %d\" % len(mnist_train))"
   ]
  },
  {
   "cell_type": "markdown",
   "metadata": {},
   "source": [
    "Each example in this dataset is a $28\\times 28$ size grey image, which is presented as NDArray with the shape format of `(height, width, channel)`. The label is a `numpy` scalar.\n",
    "\n",
    "Visualize the first six examples by running the code below."
   ]
  },
  {
   "cell_type": "code",
   "execution_count": 42,
   "metadata": {},
   "outputs": [
    {
     "data": {
      "image/png": "[encoded data removed]",
      "text/plain": [
       "<Figure size 1080x1080 with 6 Axes>"
      ]
     },
     "metadata": {},
     "output_type": "display_data"
    }
   ],
   "source": [
    "text_labels = [\n",
    "    't-shirt', 'trouser', 'pullover', 'dress', 'coat',\n",
    "    'sandal', 'shirt', 'sneaker', 'bag', 'ankle boot'\n",
    "]\n",
    "\n",
    "def plot_images(X, y):\n",
    "    _, figs = plt.subplots(1, X.shape[0], figsize=(15, 15))\n",
    "    for f,x,yi in zip(figs, X,y):\n",
    "        f.imshow(x.reshape((28,28)).asnumpy())\n",
    "        ax = f.axes\n",
    "        ax.set_title(text_labels[int(yi)])\n",
    "        ax.title.set_fontsize(20)\n",
    "        ax.get_xaxis().set_visible(False)\n",
    "        ax.get_yaxis().set_visible(False)\n",
    "    plt.show()\n",
    "    \n",
    "X, y = mnist_train[0:6]\n",
    "plot_images(X, y)"
   ]
  },
  {
   "cell_type": "markdown",
   "metadata": {},
   "source": [
    "In order to feed data into a Gluon model, you need to convert the images to the `(channel, height, weight)` format with a floating-point data type. It can be done by `transforms.ToTensor`. In addition, normalize all pixel values using `transforms.Normalize` with a real mean of `0.13` and variance of `0.31`. Chain these two transforms together and apply it to the first element of the data pair, namely the images."
   ]
  },
  {
   "cell_type": "code",
   "execution_count": 43,
   "metadata": {},
   "outputs": [],
   "source": [
    "transformer = transforms.Compose([\n",
    "    transforms.ToTensor(),\n",
    "    transforms.Normalize(0.13, 0.31)])\n",
    "\n",
    "mnist_train = mnist_train.transform_first(transformer)"
   ]
  },
  {
   "cell_type": "markdown",
   "metadata": {},
   "source": [
    "`FashionMNIST` is a subclass of `gluon.data.Dataset`, which defines how to get the `i`-th example. In order to use it in training, you need to get a (randomized) batch of examples. It can be easily done by `gluon.data.DataLoader`. Here, use four works to process data in parallel, which is often necessary especially for complex data transforms."
   ]
  },
  {
   "cell_type": "markdown",
   "metadata": {},
   "source": [
    "### Data Loading\n",
    "\n",
    "Running the code cell below returns `train_data`, an iterator that yields batches of images and label pairs."
   ]
  },
  {
   "cell_type": "code",
   "execution_count": 44,
   "metadata": {},
   "outputs": [],
   "source": [
    "batch_size = 256\n",
    "\n",
    "train_data = gluon.data.DataLoader(\n",
    "    mnist_train, batch_size=batch_size, shuffle=True, num_workers=4)"
   ]
  },
  {
   "cell_type": "markdown",
   "metadata": {},
   "source": [
    "Next, create a validation dataset and data loader."
   ]
  },
  {
   "cell_type": "code",
   "execution_count": 45,
   "metadata": {},
   "outputs": [
    {
     "name": "stdout",
     "output_type": "stream",
     "text": [
      "Downloading /home/ec2-user/.mxnet/datasets/fashion-mnist/t10k-images-idx3-ubyte.gz from https://apache-mxnet.s3-accelerate.dualstack.amazonaws.com/gluon/dataset/fashion-mnist/t10k-images-idx3-ubyte.gz...\n",
      "Downloading /home/ec2-user/.mxnet/datasets/fashion-mnist/t10k-labels-idx1-ubyte.gz from https://apache-mxnet.s3-accelerate.dualstack.amazonaws.com/gluon/dataset/fashion-mnist/t10k-labels-idx1-ubyte.gz...\n"
     ]
    }
   ],
   "source": [
    "mnist_valid = gluon.data.vision.FashionMNIST(train=False)\n",
    "\n",
    "valid_data = gluon.data.DataLoader(\n",
    "    mnist_valid.transform_first(transformer),\n",
    "    batch_size=batch_size, num_workers=4)"
   ]
  },
  {
   "cell_type": "markdown",
   "metadata": {},
   "source": [
    "### Define the Model\n",
    "\n",
    "Reimplement the same LeNet introduced before. One difference here is that you will change the weight initialization method to `Xavier`, which is a popular choice for deep convolutional neural networks."
   ]
  },
  {
   "cell_type": "code",
   "execution_count": 46,
   "metadata": {},
   "outputs": [],
   "source": [
    "net = nn.Sequential()\n",
    "with net.name_scope():\n",
    "    net.add(\n",
    "        nn.Conv2D(channels=6, kernel_size=5, activation='relu'),\n",
    "        nn.MaxPool2D(pool_size=2, strides=2),\n",
    "        nn.Conv2D(channels=16, kernel_size=3, activation='relu'),\n",
    "        nn.MaxPool2D(pool_size=2, strides=2),\n",
    "        nn.Flatten(),\n",
    "        nn.Dense(120, activation=\"relu\"),\n",
    "        nn.Dense(84, activation=\"relu\"),\n",
    "        nn.Dense(10)\n",
    "    )\n",
    "net.initialize(init=init.Xavier())"
   ]
  },
  {
   "cell_type": "markdown",
   "metadata": {},
   "source": [
    "### Loss\n",
    "\n",
    "Besides the neural network, you also need to define the loss function and optimization method for training. Use standard softmax cross entropy loss for classification problems. It first performs softmax on the output to obtain the predicted probability, and then compares the label with the cross entropy."
   ]
  },
  {
   "cell_type": "code",
   "execution_count": 47,
   "metadata": {},
   "outputs": [],
   "source": [
    "softmax_cross_entropy = gluon.loss.SoftmaxCrossEntropyLoss()"
   ]
  },
  {
   "cell_type": "markdown",
   "metadata": {},
   "source": [
    "### Optimization\n",
    "\n",
    "The optimization method selected is the standard stochastic gradient descent with a constant learning rate of `0.1`.\n",
    "\n",
    "The `trainer` is created with all parameters (both weights and gradients) in `net`. Later on, you will only need to call the `step` method to update its weights."
   ]
  },
  {
   "cell_type": "code",
   "execution_count": 48,
   "metadata": {},
   "outputs": [],
   "source": [
    "trainer = gluon.Trainer(net.collect_params(),\n",
    "                        'sgd', {'learning_rate': 0.1})"
   ]
  },
  {
   "cell_type": "markdown",
   "metadata": {},
   "source": [
    "### Accuracy\n",
    "\n",
    "To evaluate how good your model is, you need to compute both loss and accuracy. Loss relates to the number of errors made for the training and validation sets. Accuracy is a percentage describing how confident the model is in its prediction. To calculate this, sum the number of correctly predicted labels and divide by the total number of predictions. Higher accuracy is preferred. Loss is calculated via a Softmax Cross Entropy function which calculates the distance between predictions and true label. Lower loss is preferred."
   ]
  },
  {
   "cell_type": "code",
   "execution_count": 49,
   "metadata": {},
   "outputs": [],
   "source": [
    "def acc(output, label):\n",
    "    # output: (batch, num_output) float32 ndarray\n",
    "    # label: (batch, ) int32 ndarray\n",
    "    acc = (output.argmax(axis=1) == label.astype('float32'))\n",
    "    return acc.mean().asscalar()"
   ]
  },
  {
   "cell_type": "markdown",
   "metadata": {},
   "source": [
    "### Training Loop\n",
    "\n",
    "Now implement the complete training loop. The below should take around 2 minutes to complete on a m4.xlarge instance"
   ]
  },
  {
   "cell_type": "code",
   "execution_count": 50,
   "metadata": {},
   "outputs": [
    {
     "name": "stdout",
     "output_type": "stream",
     "text": [
      "Epoch 0: Loss: 0.740, Train acc 0.726, Test acc 0.827, Time 9.9 sec\n",
      "Epoch 1: Loss: 0.466, Train acc 0.825, Test acc 0.848, Time 10.1 sec\n",
      "Epoch 2: Loss: 0.404, Train acc 0.850, Test acc 0.861, Time 10.4 sec\n",
      "Epoch 3: Loss: 0.370, Train acc 0.863, Test acc 0.868, Time 10.0 sec\n",
      "Epoch 4: Loss: 0.347, Train acc 0.870, Test acc 0.876, Time 10.1 sec\n",
      "Epoch 5: Loss: 0.327, Train acc 0.878, Test acc 0.886, Time 10.1 sec\n",
      "Epoch 6: Loss: 0.311, Train acc 0.885, Test acc 0.881, Time 10.0 sec\n",
      "Epoch 7: Loss: 0.298, Train acc 0.888, Test acc 0.890, Time 10.4 sec\n",
      "Epoch 8: Loss: 0.288, Train acc 0.893, Test acc 0.894, Time 10.3 sec\n",
      "Epoch 9: Loss: 0.276, Train acc 0.897, Test acc 0.890, Time 10.1 sec\n"
     ]
    }
   ],
   "source": [
    "for epoch in range(10):\n",
    "    train_loss, train_acc, valid_acc = 0., 0., 0.\n",
    "    tic = time()\n",
    "    for data, label in train_data:\n",
    "        # forward + backward\n",
    "        with autograd.record():\n",
    "            output = net(data)\n",
    "            loss = softmax_cross_entropy(output, label)\n",
    "        loss.backward()\n",
    "        # update parameters\n",
    "        trainer.step(batch_size)\n",
    "        # calculate training metrics\n",
    "        train_loss += loss.mean().asscalar()\n",
    "        train_acc += acc(output, label)\n",
    "\n",
    "    # calculate validation accuracy\n",
    "    for data, label in valid_data:\n",
    "        valid_acc += acc(net(data), label)\n",
    "\n",
    "    print(\"Epoch %d: Loss: %.3f, Train acc %.3f, Test acc %.3f, \\\n",
    "Time %.1f sec\" % (\n",
    "        epoch, train_loss/len(train_data),\n",
    "        train_acc/len(train_data),\n",
    "        valid_acc/len(valid_data), time()-tic))"
   ]
  },
  {
   "cell_type": "markdown",
   "metadata": {},
   "source": [
    "### Save the Model\n",
    "\n",
    "Finally, save the trained parameters onto disk so that they can be used later."
   ]
  },
  {
   "cell_type": "code",
   "execution_count": 51,
   "metadata": {},
   "outputs": [
    {
     "data": {
      "text/plain": [
       "'Validation accuracy: 0.89'"
      ]
     },
     "execution_count": 51,
     "metadata": {},
     "output_type": "execute_result"
    }
   ],
   "source": [
    "\"Validation accuracy: %.2f\"%(valid_acc/len(valid_data))"
   ]
  },
  {
   "cell_type": "code",
   "execution_count": 51,
   "metadata": {},
   "outputs": [],
   "source": [
    "net.save_parameters('net.params')"
   ]
  },
  {
   "cell_type": "markdown",
   "metadata": {},
   "source": [
    "## Predict with a Pre-Trained Model\n",
    "<a name=\"predict\"></a>\n",
    "\n",
    "A saved model can be used in multiple places such as to continue training, to fine tune the model, and for prediction. In this section you will learn how to predict new examples using a pretrained model.\n",
    "\n",
    "### Build the Model\n",
    "\n",
    "To start, copy a simple model's definition.\n",
    "\n",
    "<div style=\"text-align: right\"><a href=\"#toc\">Back to top</a></div>"
   ]
  },
  {
   "cell_type": "code",
   "execution_count": 52,
   "metadata": {},
   "outputs": [],
   "source": [
    "net = nn.Sequential()\n",
    "with net.name_scope():\n",
    "    net.add(\n",
    "        nn.Conv2D(channels=6, kernel_size=5, activation='relu'),\n",
    "        nn.MaxPool2D(pool_size=2, strides=2),\n",
    "        nn.Conv2D(channels=16, kernel_size=3, activation='relu'),\n",
    "        nn.MaxPool2D(pool_size=2, strides=2),\n",
    "        nn.Flatten(),\n",
    "        nn.Dense(120, activation=\"relu\"),\n",
    "        nn.Dense(84, activation=\"relu\"),\n",
    "        nn.Dense(10)\n",
    "    )"
   ]
  },
  {
   "cell_type": "markdown",
   "metadata": {},
   "source": [
    "### Load Parameters\n",
    "\n",
    "Load your saved parameters from the file `(net.params)` you saved previously."
   ]
  },
  {
   "cell_type": "code",
   "execution_count": 53,
   "metadata": {},
   "outputs": [],
   "source": [
    "net.load_parameters('net.params')"
   ]
  },
  {
   "cell_type": "markdown",
   "metadata": {},
   "source": [
    "### Predict\n",
    "\n",
    "Perform the same transformation you used for training, but this time for predicting."
   ]
  },
  {
   "cell_type": "code",
   "execution_count": 54,
   "metadata": {},
   "outputs": [],
   "source": [
    "transformer = transforms.Compose([\n",
    "    transforms.ToTensor(),\n",
    "    transforms.Normalize(0.13, 0.31)])"
   ]
  },
  {
   "cell_type": "markdown",
   "metadata": {},
   "source": [
    "Now try to predict the first six images in the validation dataset and store the predictions into `preds` and run through the neural network. Finally, visualize the images and compare the prediction with the truth. Note that in the output, the top label is the actual value (Truth) and the lower label is the predicted value."
   ]
  },
  {
   "cell_type": "code",
   "execution_count": 55,
   "metadata": {},
   "outputs": [
    {
     "data": {
      "image/png": "[encoded data removed]",
      "text/plain": [
       "<Figure size 1080x1080 with 6 Axes>"
      ]
     },
     "metadata": {},
     "output_type": "display_data"
    }
   ],
   "source": [
    "mnist_valid = datasets.FashionMNIST(train=False)\n",
    "X, y = mnist_valid[:6]\n",
    "\n",
    "preds = []  \n",
    "for x in X:\n",
    "    x = transformer(x).expand_dims(axis=0)\n",
    "    pred = net(x).argmax(axis=1)\n",
    "    preds.append(pred.astype('int32').asscalar())\n",
    "\n",
    "def plot_images(X, y, preds):\n",
    "    _, figs = plt.subplots(1, 6, figsize=(15, 15))\n",
    "    text_labels = [\n",
    "        't-shirt', 'trouser', 'pullover', 'dress', 'coat',\n",
    "        'sandal', 'shirt', 'sneaker', 'bag', 'ankle boot'\n",
    "    ]\n",
    "    for f,x,yi,pyi in zip(figs, X, y, preds):\n",
    "        f.imshow(x.reshape((28,28)).asnumpy())\n",
    "        ax = f.axes\n",
    "        ax.set_title(text_labels[yi]+'\\n'+text_labels[pyi])\n",
    "        ax.title.set_fontsize(20)\n",
    "        ax.get_xaxis().set_visible(False)\n",
    "        ax.get_yaxis().set_visible(False)\n",
    "    plt.show()\n",
    "    plt.close()\n",
    "    \n",
    "plot_images(X, y, preds)"
   ]
  },
  {
   "cell_type": "markdown",
   "metadata": {},
   "source": [
    "### Predict with Models from the Gluon Model Zoo\n",
    "\n",
    "The LeNet trained on FashionMNIST is a good example to start with, but too simple to predict real-life pictures. Instead of training a large-scale model from scratch, [Gluon Model Zoo](https://mxnet.incubator.apache.org/api/python/gluon/model_zoo.html) provides multiple, powerful pre-trained models.\n",
    "\n",
    "For example, download and load a pre-trained ResNet-50 V2 model that was trained on the ImageNet dataset."
   ]
  },
  {
   "cell_type": "code",
   "execution_count": 56,
   "metadata": {},
   "outputs": [
    {
     "name": "stdout",
     "output_type": "stream",
     "text": [
      "Downloading /home/ec2-user/.mxnet/models/resnet50_v2-ecdde353.zip from https://apache-mxnet.s3-accelerate.dualstack.amazonaws.com/gluon/models/resnet50_v2-ecdde353.zip...\n"
     ]
    }
   ],
   "source": [
    "net = models.resnet50_v2(pretrained=True)"
   ]
  },
  {
   "cell_type": "markdown",
   "metadata": {},
   "source": [
    "Also download and load the text labels for each class."
   ]
  },
  {
   "cell_type": "code",
   "execution_count": 57,
   "metadata": {},
   "outputs": [
    {
     "name": "stdout",
     "output_type": "stream",
     "text": [
      "Downloading synset.txt from http://data.mxnet.io/models/imagenet/synset.txt...\n",
      "tench, Tinca tinca\n",
      "goldfish, Carassius auratus\n",
      "great white shark, white shark, man-eater, man-eating shark, Carcharodon carcharias\n",
      "tiger shark, Galeocerdo cuvieri\n",
      "hammerhead, hammerhead shark\n",
      "electric ray, crampfish, numbfish, torpedo\n",
      "stingray\n",
      "cock\n",
      "hen\n",
      "ostrich, Struthio camelus\n"
     ]
    }
   ],
   "source": [
    "url = 'http://data.mxnet.io/models/imagenet/synset.txt'\n",
    "fname = download(url)\n",
    "with open(fname, 'r') as f:\n",
    "    text_labels = [' '.join(l.split()[1:]) for l in f]\n",
    "    \n",
    "print(*text_labels[:10], sep='\\n')"
   ]
  },
  {
   "cell_type": "markdown",
   "metadata": {},
   "source": [
    "For this lab, a dog image was randomly picked from [Wikipedia](https://www.wikipedia.org/) as a test image."
   ]
  },
  {
   "cell_type": "code",
   "execution_count": 66,
   "metadata": {},
   "outputs": [
    {
     "data": {
      "text/plain": [
       "<matplotlib.image.AxesImage at 0x7fcb9c29ec50>"
      ]
     },
     "execution_count": 66,
     "metadata": {},
     "output_type": "execute_result"
    },
    {
     "data": {
      "image/png": "[encoded data removed]",
      "text/plain": [
       "<Figure size 432x288 with 1 Axes>"
      ]
     },
     "metadata": {},
     "output_type": "display_data"
    }
   ],
   "source": [
    "#fname = \"golden_retriever.jpg\"\n",
    "#fname = \"dog.jpeg\"\n",
    "fname = \"bdog.jpg\"\n",
    "plt.imshow(plt.imread(fname))"
   ]
  },
  {
   "cell_type": "markdown",
   "metadata": {},
   "source": [
    "### Preprocessing\n",
    "\n",
    "The conventional method of preprocessing ImageNet data includes:\n",
    "\n",
    "1. Resizing the short edge into 256 pixels.\n",
    "1. Performing a center crop to obtain a 224-by-224 image.\n",
    "\n",
    "The following code uses the image processing functions provided in the MXNet [`image` Module](https://mxnet.incubator.apache.org/api/python/image/image.html)."
   ]
  },
  {
   "cell_type": "code",
   "execution_count": 67,
   "metadata": {},
   "outputs": [
    {
     "data": {
      "text/plain": [
       "(2003, 1603, 3)"
      ]
     },
     "execution_count": 67,
     "metadata": {},
     "output_type": "execute_result"
    }
   ],
   "source": [
    "x = image.imread(fname)\n",
    "x.shape"
   ]
  },
  {
   "cell_type": "code",
   "execution_count": 68,
   "metadata": {},
   "outputs": [
    {
     "data": {
      "image/png": "[encoded data removed]",
      "text/plain": [
       "<Figure size 432x288 with 1 Axes>"
      ]
     },
     "metadata": {},
     "output_type": "display_data"
    }
   ],
   "source": [
    "x = image.resize_short(x, 256)\n",
    "x, _ = image.center_crop(x, (224,224))\n",
    "\n",
    "plt.imshow(x.asnumpy())\n",
    "plt.show()"
   ]
  },
  {
   "cell_type": "markdown",
   "metadata": {},
   "source": [
    "You may already know it is an image of a Golden Retriever (you can also infer it from the image URL).\n",
    "\n",
    "The further data transformation is similar to FashionMNIST except that you subtract the RGB means and divide by the corresponding variances to normalize each color channel.\n",
    "\n",
    "After this, you can recognize the object in the image. Perform an additional softmax activation function on the output to obtain probability scores for the different types of objects, and then print the top-5 recognized objects."
   ]
  },
  {
   "cell_type": "code",
   "execution_count": 69,
   "metadata": {},
   "outputs": [
    {
     "name": "stdout",
     "output_type": "stream",
     "text": [
      "With prob = 0.99885, it contains German short-haired pointer\n",
      "With prob = 0.00100, it contains bluetick\n",
      "With prob = 0.00002, it contains Brittany spaniel\n",
      "With prob = 0.00001, it contains vizsla, Hungarian pointer\n",
      "With prob = 0.00001, it contains Walker hound, Walker foxhound\n"
     ]
    }
   ],
   "source": [
    "def transform(data):\n",
    "    data = data.transpose((2,0,1)).expand_dims(axis=0)\n",
    "    rgb_mean = nd.array([0.485, 0.456, 0.406]).reshape((1,3,1,1))\n",
    "    rgb_std = nd.array([0.229, 0.224, 0.225]).reshape((1,3,1,1))\n",
    "    return (data.astype('float32') / 255. - rgb_mean) / rgb_std\n",
    "\n",
    "output = net(transform(x))\n",
    "pred = output.softmax()\n",
    "\n",
    "idx = pred.topk(k=5).squeeze()\n",
    "for i in idx:\n",
    "    i = int(i.asscalar())\n",
    "    print('With prob = %.5f, it contains %s' % (\n",
    "        pred[0,i].asscalar(), text_labels[i]))"
   ]
  },
  {
   "cell_type": "markdown",
   "metadata": {},
   "source": [
    "The model is highly confident the image contains a Golden Retriever.\n",
    "\n",
    "# Lab Complete"
   ]
  }
 ],
 "metadata": {
  "kernelspec": {
   "display_name": "conda_mxnet_p36",
   "language": "python",
   "name": "conda_mxnet_p36"
  },
  "language_info": {
   "codemirror_mode": {
    "name": "ipython",
    "version": 3
   },
   "file_extension": ".py",
   "mimetype": "text/x-python",
   "name": "python",
   "nbconvert_exporter": "python",
   "pygments_lexer": "ipython3",
   "version": "3.6.5"
  }
 },
 "nbformat": 4,
 "nbformat_minor": 2
}
